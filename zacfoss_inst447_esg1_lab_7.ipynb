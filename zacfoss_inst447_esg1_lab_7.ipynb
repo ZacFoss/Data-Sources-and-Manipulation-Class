{
 "cells": [
  {
   "cell_type": "markdown",
   "metadata": {},
   "source": [
    "# Lab 7  Regex\n"
   ]
  },
  {
   "cell_type": "markdown",
   "metadata": {},
   "source": [
    "## Regular Expressions / Text Analysis"
   ]
  },
  {
   "cell_type": "markdown",
   "metadata": {},
   "source": [
    "Skills\n",
    "- learn to write regular expressions (re)\n",
    "\n",
    "Resources\n",
    "- https://docs.python.org/3/library/re.html\n",
    "- https://www.dataquest.io/blog/regex-cheatsheet/\n",
    "- http://www.pyregex.com/"
   ]
  },
  {
   "cell_type": "code",
   "execution_count": 2,
   "metadata": {},
   "outputs": [],
   "source": [
    "# import modules\n",
    "import re, os\n",
    "import pandas as pd\n",
    "import numpy as np"
   ]
  },
  {
   "cell_type": "markdown",
   "metadata": {},
   "source": [
    "## Part A : Pattern Matching\n",
    "Here are some stings to match against."
   ]
  },
  {
   "cell_type": "code",
   "execution_count": 3,
   "metadata": {},
   "outputs": [
    {
     "output_type": "execute_result",
     "data": {
      "text/plain": [
       "<re.Match object; span=(0, 10), match='03/03/2018'>"
      ]
     },
     "metadata": {},
     "execution_count": 3
    }
   ],
   "source": [
    "# write a regular expression to match dates of the form MM/DD/YYYY\n",
    "pattern01 = ['01/21/2018', '12/12/2012', '03/03/2018']\n",
    "x = re.search('^(0[1-9]|1[012])[- /.](0[1-9]|[12][0-9]|3[01])[- /.](19|20)\\d\\d$', pattern01[2])\n",
    "x"
   ]
  },
  {
   "cell_type": "code",
   "execution_count": 4,
   "metadata": {},
   "outputs": [
    {
     "output_type": "execute_result",
     "data": {
      "text/plain": [
       "<re.Match object; span=(0, 19), match='some.email@ox.ac.uk'>"
      ]
     },
     "metadata": {},
     "execution_count": 4
    }
   ],
   "source": [
    "#  write a regular expression to match Email addresses of the form username@host\n",
    "pattern02 = ['email@umd.edu', 'email@terpmail.umd.edu', 'some.email@ox.ac.uk']\n",
    "y = re.search('[\\w.-]+@[\\w.-]+', pattern02[2])\n",
    "y"
   ]
  },
  {
   "cell_type": "code",
   "execution_count": 5,
   "metadata": {},
   "outputs": [
    {
     "output_type": "execute_result",
     "data": {
      "text/plain": [
       "<re.Match object; span=(2, 14), match='800-333-4455'>"
      ]
     },
     "metadata": {},
     "execution_count": 5
    }
   ],
   "source": [
    "#  write a regular expression to match Phone numbers\n",
    "pattern03 = ['555-255-9292', '301.405.1000', '(301)405-4400', '1-800-333-4455']\n",
    "z = re.search('\\d{3}[\\-. ]\\d{3}[\\-. ]\\d{4}', pattern03[3])\n",
    "z"
   ]
  },
  {
   "cell_type": "code",
   "execution_count": 8,
   "metadata": {},
   "outputs": [],
   "source": [
    "#  write a regular expression to match YouTube Video Links and pull out the videoids (and *only* the videoid)...\n",
    "# the videoid is the \n",
    "pattern04 = '''https://www.youtube.com/watch?feature=something&v=videoid1&embed=something\n",
    "http://www.youtube.com/watch?feature=something&v=videoid2&embed=something\n",
    "www.youtube.com/watch?feature=something&v=videoid3&embed=something\n",
    "youtube.com/watch?feature=something&v=videoid42&embed=something\n",
    "https://www.youtube.com/watch?v=videoid1\n",
    "http://www.youtube.com/watch?v=videoid2\n",
    "www.youtube.com/watch?v=videoid3\n",
    "youtube.com/watch?v=videoid4\n",
    "https://www.youtube.com/v/videoid12\n",
    "http://www.youtube.com/v/videoid25\n",
    "www.youtube.com/v/videoid3\n",
    "youtube.com/v/videoid4'''\n",
    "a = re.search('(?= videoid\\d{1-2})\\d{1-2}', pattern04[0])\n",
    "a"
   ]
  },
  {
   "source": [
    "# Part B: Applied Regular Expressions"
   ],
   "cell_type": "markdown",
   "metadata": {}
  },
  {
   "source": [
    "## Web Server Logs\n",
    "This is a typical server log for a web server. Regex is often used to make sense of it.\n",
    "\n",
    "Create a DataFrame with the following columns: IP Address, Date, Time, HTTP Status code, and Size but only for pages in \"/anyWord/twiki\"  where \"anyWord\" can be replaced with any valid string (e.g. \"testing\", \"inst447\", etc.)"
   ],
   "cell_type": "markdown",
   "metadata": {}
  },
  {
   "source": [
    "# adjust the data path to make sense for your system\n",
    "datapath = \"/Users/zacfo/Downloads/\"\n",
    "\n",
    "f = open(datapath+'http_log-spring2021.txt', 'r')\n",
    "text = f.read()\n",
    "print(text)\n",
    "f.close()\n",
    "\n",
    "# use regular expressions to select key elements\n",
    "# create a data frame with this information\n",
    "mylist = re.finditer('(?P<ipaddress>\\d{2}\\.\\d{3}\\.\\d{2}\\.\\d{2}) (?P<date>\\d{2}\\/\\w+\\/\\d{4}) (?P<time>\\:\\d{2}\\:\\d{2}\\:\\d{2}) (?P<httpstatuscode>\\s\\d{3}\\s) (?P<size>(?<=\\s\\d{3}\\s)\\d{2,5})', text)\n",
    "newList = []\n",
    "for m in mylist:\n",
    "    print(m['ipaddress'] + \" \" + m['date'] + \" \" + m['time'] + \" \" + m['httpstatuscode'] + \" \" ['size'] )\n",
    "    newList.append({'ipaddress':m['ipaddress'], 'date':m['date'], 'time':m['time'], 'httpstatuscode':m['httpstatuscode'], 'size':m['size']})\n",
    "\n",
    "newDataFrame = pd.DataFrame(newList)\n",
    "newDataFrame"
   ],
   "cell_type": "code",
   "metadata": {},
   "execution_count": 51,
   "outputs": [
    {
     "output_type": "stream",
     "name": "stdout",
     "text": [
      "64.242.88.10 - - [07/Mar/2004:16:05:49 -0800] \"GET /testing/twiki/bin/edit/Main/Double_bounce_sender?topicparent=Main.ConfigurationVariables HTTP/1.1\" 401 12846\n",
      "64.242.88.10 - - [07/Mar/2004:16:06:51 -0800] \"GET /testing/twiki/bin/rdiff/TWiki/NewUserTemplate?rev1=1.3&rev2=1.2 HTTP/1.1\" 200 4523\n",
      "64.242.88.10 - - [07/Mar/2004:16:10:02 -0800] \"GET /mailman/listinfo/hsdivision HTTP/1.1\" 200 6291\n",
      "64.242.88.10 - - [07/Mar/2004:16:11:58 -0800] \"GET /twiki/bin/view/TWiki/WikiSyntax HTTP/1.1\" 200 7352\n",
      "64.242.88.10 - - [07/Mar/2004:16:20:55 -0800] \"GET /testing/twoki/bin/view/Main/DCCAndPostFix HTTP/1.1\" 200 5253\n",
      "64.242.88.10 - - [07/Mar/2004:16:23:12 -0800] \"GET /testing/twiki/bin/oops/TWiki/AppendixFileSystem?template=oopsmoreÂ¶m1=1.12Â¶m2=1.12 HTTP/1.1\" 200 11382\n",
      "64.242.88.10 - - [07/Mar/2004:16:24:16 -0800] \"GET /testing/twiki/bin/view/Main/PeterThoeny HTTP/1.1\" 200 4924\n",
      "64.242.88.10 - - [07/Mar/2004:16:29:16 -0800] \"GET /testing/twiki/bin/edit/Main/Header_checks?topicparent=Main.ConfigurationVariables HTTP/1.1\" 401 12851\n",
      "64.242.88.10 - - [07/Mar/2004:16:30:29 -0800] \"GET /testing/twiki/bin/attach/Main/OfficeLocations HTTP/1.1\" 401 12851\n",
      "64.242.88.10 - - [07/Mar/2004:16:31:48 -0800] \"GET /testing/twiki/bin/view/TWiki/WebTopicEditTemplate HTTP/1.1\" 200 3732\n",
      "64.242.88.10 - - [07/Mar/2004:16:32:50 -0800] \"GET /testing/twiki/bin/view/Main/WebChanges HTTP/1.1\" 200 40520\n",
      "64.242.88.10 - - [07/Mar/2004:16:33:53 -0800] \"GET /testing/twiki/bin/edit/Main/Smtpd_etrn_restrictions?topicparent=Main.ConfigurationVariables HTTP/1.1\" 401 12851\n",
      "64.242.88.10 - - [07/Mar/2004:16:35:19 -0800] \"GET /mailman/listinfo/business HTTP/1.1\" 200 6379\n",
      "64.242.88.10 - - [07/Mar/2004:16:36:22 -0800] \"GET /testing/twiki/bin/rdiff/Main/WebIndex?rev1=1.2&rev2=1.1 HTTP/1.1\" 200 46373\n",
      "64.242.88.10 - - [07/Mar/2004:16:37:27 -0800] \"GET /testing/twiki/bin/view/TWiki/DontNotify HTTP/1.1\" 200 4140\n",
      "64.242.88.10 - - [07/Mar/2004:16:39:24 -0800] \"GET /testing/twiki/bin/view/Main/TokyoOffice HTTP/1.1\" 200 3853\n",
      "64.242.88.10 - - [07/Mar/2004:16:43:54 -0800] \"GET /testing/twiki/bin/view/Main/MikeMannix HTTP/1.1\" 200 3686\n",
      "64.242.88.10 - - [07/Mar/2004:16:45:56 -0800] \"GET /twiki/bin/attach/Main/PostfixCommands HTTP/1.1\" 401 12846\n",
      "64.242.88.10 - - [07/Mar/2004:16:47:12 -0800] \"GET /robots.txt HTTP/1.1\" 200 68\n",
      "64.242.88.10 - - [07/Mar/2004:16:47:46 -0800] \"GET /testing/twiki/bin/rdiff/Know/ReadmeFirst?rev1=1.5&rev2=1.4 HTTP/1.1\" 200 5724\n",
      "64.242.88.10 - - [07/Mar/2004:16:49:04 -0800] \"GET /testing/twiki/bin/view/Main/TWikiGroups?rev=1.2 HTTP/1.1\" 200 5162\n",
      "64.242.88.10 - - [07/Mar/2004:16:50:54 -0800] \"GET /testing/twiki/bin/rdiff/Main/ConfigurationVariables HTTP/1.1\" 200 59679\n",
      "64.242.88.10 - - [07/Mar/2004:16:52:35 -0800] \"GET /testing/twiki/bin/edit/Main/Flush_service_name?topicparent=Main.ConfigurationVariables HTTP/1.1\" 401 12851\n",
      "64.242.88.10 - - [07/Mar/2004:16:53:46 -0800] \"GET /testing/twiki/bin/rdiff/TWiki/TWikiRegistration HTTP/1.1\" 200 34395\n",
      "64.242.88.10 - - [07/Mar/2004:16:54:55 -0800] \"GET /twiki/bin/rdiff/Main/NicholasLee HTTP/1.1\" 200 7235\n",
      "64.242.88.10 - - [07/Mar/2004:16:56:39 -0800] \"GET /testing/twiki/bin/view/Sandbox/WebHome?rev=1.6 HTTP/1.1\" 200 8545\n",
      "64.242.88.10 - - [07/Mar/2004:16:58:54 -0800] \"GET /mailman/listinfo/administration HTTP/1.1\" 200 6459\n",
      "lordgun.org - - [07/Mar/2004:17:01:53 -0800] \"GET /razor.html HTTP/1.1\" 200 2869\n",
      "64.242.88.10 - - [07/Mar/2004:17:09:01 -0800] \"GET /testing/twiki/bin/search/Main/SearchResult?scope=textÂ®ex=on&search=Joris%20*Benschop[^A-Za-z] HTTP/1.1\" 200 4284\n",
      "64.242.88.10 - - [07/Mar/2004:17:10:20 -0800] \"GET /testing/twiki/bin/oops/TWiki/TextFormattingRules?template=oopsmoreÂ¶m1=1.37Â¶m2=1.37 HTTP/1.1\" 200 11400\n",
      "64.242.88.10 - - [07/Mar/2004:17:13:50 -0800] \"GET /testing/twiki/bin/edit/TWiki/DefaultPlugin?t=1078688936 HTTP/1.1\" 401 12846\n",
      "64.242.88.10 - - [07/Mar/2004:17:16:00 -0800] \"GET /testing/twiki/bin/search/Main/?scope=topicÂ®ex=on&search=^g HTTP/1.1\" 200 3675\n",
      "64.242.88.10 - - [07/Mar/2004:17:17:27 -0800] \"GET /testing/twiki/bin/search/TWiki/?scope=topicÂ®ex=on&search=^d HTTP/1.1\" 200 5773\n",
      "lj1036.inktomisearch.com - - [07/Mar/2004:17:18:36 -0800] \"GET /robots.txt HTTP/1.0\" 200 68\n",
      "lj1090.inktomisearch.com - - [07/Mar/2004:17:18:41 -0800] \"GET /testing/twiki/bin/view/Main/LondonOffice HTTP/1.0\" 200 3860\n",
      "64.242.88.10 - - [07/Mar/2004:17:21:44 -0800] \"GET /testing/twoki/bin/attach/TWiki/TablePlugin HTTP/1.1\" 401 12846\n",
      "64.242.88.10 - - [07/Mar/2004:17:22:49 -0800] \"GET /testing/twiki/bin/view/TWiki/ManagingWebs?rev=1.22 HTTP/1.1\" 200 9310\n",
      "64.242.88.10 - - [07/Mar/2004:17:23:54 -0800] \"GET /testing/twiki/bin/statistics/Main HTTP/1.1\" 200 808\n",
      "64.242.88.10 - - [07/Mar/2004:17:26:30 -0800] \"GET /testing/twoki/bin/view/TWiki/WikiCulture HTTP/1.1\" 200 5935\n",
      "64.242.88.10 - - [07/Mar/2004:17:27:37 -0800] \"GET /testing/twiki/bin/edit/Main/WebSearch?t=1078669682 HTTP/1.1\" 401 12846\n",
      "64.242.88.10 - - [07/Mar/2004:17:28:45 -0800] \"GET /testing/twiki/bin/oops/TWiki/ResetPassword?template=oopsmoreÂ¶m1=1.4Â¶m2=1.4 HTTP/1.1\" 200 11281\n",
      "64.242.88.10 - - [07/Mar/2004:17:29:59 -0800] \"GET /testing/twiki/bin/view/TWiki/ManagingWebs?skin=print HTTP/1.1\" 200 8806\n",
      "64.242.88.10 - - [07/Mar/2004:17:31:39 -0800] \"GET /testing/twiki/bin/edit/Main/UvscanAndPostFix?topicparent=Main.WebHome HTTP/1.1\" 401 12846\n",
      "64.242.88.10 - - [07/Mar/2004:17:35:35 -0800] \"GET /testing/twiki/bin/view/TWiki/KlausWriessnegger HTTP/1.1\" 200 3848\n",
      "64.242.88.10 - - [07/Mar/2004:17:39:39 -0800] \"GET /testing/twiki/bin/view/Main/SpamAssassin HTTP/1.1\" 200 4081\n",
      "64.242.88.10 - - [07/Mar/2004:17:42:15 -0800] \"GET /testing/twiki/bin/oops/TWiki/RichardDonkin?template=oopsmoreÂ¶m1=1.2Â¶m2=1.2 HTTP/1.1\" 200 11281\n",
      "64.242.88.10 - - [07/Mar/2004:17:46:17 -0800] \"GET /testing/twiki/bin/rdiff/TWiki/AlWilliams?rev1=1.3&rev2=1.2 HTTP/1.1\" 200 4485\n",
      "64.242.88.10 - - [07/Mar/2004:17:47:43 -0800] \"GET /testing/twiki/bin/rdiff/TWiki/AlWilliams?rev1=1.2&rev2=1.1 HTTP/1.1\" 200 5234\n",
      "64.242.88.10 - - [07/Mar/2004:17:50:44 -0800] \"GET /testing/twiki/bin/view/TWiki/SvenDowideit HTTP/1.1\" 200 3616\n",
      "64.242.88.10 - - [07/Mar/2004:17:53:45 -0800] \"GET /inst447/twiki/bin/search/Main/SearchResult?scope=textÂ®ex=on&search=Office%20*Locations[^A-Za-z] HTTP/1.1\" 200 7771\n",
      "\n",
      "<>:14: SyntaxWarning: str indices must be integers or slices, not str; perhaps you missed a comma?\n",
      "<>:14: SyntaxWarning: str indices must be integers or slices, not str; perhaps you missed a comma?\n",
      "<ipython-input-51-22f3855d678d>:14: SyntaxWarning: str indices must be integers or slices, not str; perhaps you missed a comma?\n",
      "  print(m['ipaddress'] + \" \" + m['date'] + \" \" + m['time'] + \" \" + m['httpstatuscode'] + \" \" ['size'] )\n"
     ]
    },
    {
     "output_type": "execute_result",
     "data": {
      "text/plain": [
       "Empty DataFrame\n",
       "Columns: []\n",
       "Index: []"
      ],
      "text/html": "<div>\n<style scoped>\n    .dataframe tbody tr th:only-of-type {\n        vertical-align: middle;\n    }\n\n    .dataframe tbody tr th {\n        vertical-align: top;\n    }\n\n    .dataframe thead th {\n        text-align: right;\n    }\n</style>\n<table border=\"1\" class=\"dataframe\">\n  <thead>\n    <tr style=\"text-align: right;\">\n      <th></th>\n    </tr>\n  </thead>\n  <tbody>\n  </tbody>\n</table>\n</div>"
     },
     "metadata": {},
     "execution_count": 51
    }
   ]
  },
  {
   "cell_type": "code",
   "execution_count": null,
   "metadata": {},
   "outputs": [],
   "source": []
  }
 ],
 "metadata": {
  "kernelspec": {
   "name": "python385jvsc74a57bd0dc34c2ba8824dbfe2eea5e67b12bb70d12aca41249bbdbfb6cb212a00f277b2f",
   "display_name": "Python 3.8.5 64-bit ('base': conda)"
  },
  "language_info": {
   "codemirror_mode": {
    "name": "ipython",
    "version": 3
   },
   "file_extension": ".py",
   "mimetype": "text/x-python",
   "name": "python",
   "nbconvert_exporter": "python",
   "pygments_lexer": "ipython3",
   "version": "3.8.5"
  }
 },
 "nbformat": 4,
 "nbformat_minor": 2
}