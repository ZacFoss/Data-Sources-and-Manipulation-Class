{
  "nbformat": 4,
  "nbformat_minor": 0,
  "metadata": {
    "kernelspec": {
      "display_name": "Python 3",
      "language": "python",
      "name": "python3"
    },
    "language_info": {
      "codemirror_mode": {
        "name": "ipython",
        "version": 3
      },
      "file_extension": ".py",
      "mimetype": "text/x-python",
      "name": "python",
      "nbconvert_exporter": "python",
      "pygments_lexer": "ipython3",
      "version": "3.7.4"
    },
    "colab": {
      "name": "Lab_5_Data_Structures.ipynb",
      "provenance": [],
      "collapsed_sections": []
    }
  },
  "cells": [
    {
      "cell_type": "markdown",
      "metadata": {
        "collapsed": true,
        "id": "OvjpyEy9VJRy"
      },
      "source": [
        "# Lab 5 Data Structures\n",
        "\n",
        "Skills\n",
        "- reading xml\n",
        "- reading json\n",
        "- sql\n",
        "\n",
        "Extra Modules\n",
        "- json\n",
        "\n",
        "Resources\n",
        "- https://pandas.pydata.org/pandas-docs/version/0.17.0/generated/pandas.io.json.json_normalize.html\n",
        "- https://pandas.pydata.org/pandas-docs/stable/generated/pandas.DataFrame.merge.html\n",
        "- https://docs.python.org/2/library/xml.etree.elementtree.html"
      ]
    },
    {
      "cell_type": "code",
      "metadata": {
        "colab": {
          "resources": {
            "http://localhost:8080/nbextensions/google.colab/files.js": {
              "data": "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",
              "ok": true,
              "headers": [
                [
                  "content-type",
                  "application/javascript"
                ]
              ],
              "status": 200,
              "status_text": ""
            }
          },
          "base_uri": "https://localhost:8080/",
          "height": 177
        },
        "id": "BNYM5ZmJVJR0",
        "outputId": "7e616dea-bc12-4f95-f75a-23995fa0b10c"
      },
      "source": [
        "# import modules\n",
        "import pandas as pd\n",
        "import numpy as np\n",
        "\n",
        "from pandas.io.json import json_normalize #special package in pandas\n",
        "import json\n",
        "import sqlite3\n",
        "try: # This is not needed as starting with Python 3.3 the C version is used by default\n",
        "    import xml.etree.cElementTree as ET\n",
        "except ImportError:\n",
        "    import xml.etree.ElementTree as ET\n",
        "\n",
        "from google.colab import files\n",
        "uploaded = files.upload()"
      ],
      "execution_count": 1,
      "outputs": [
        {
          "output_type": "display_data",
          "data": {
            "text/html": [
              "\n",
              "     <input type=\"file\" id=\"files-0c2f9f4f-f96f-4c3b-95be-ba7a6b496eff\" name=\"files[]\" multiple disabled\n",
              "        style=\"border:none\" />\n",
              "     <output id=\"result-0c2f9f4f-f96f-4c3b-95be-ba7a6b496eff\">\n",
              "      Upload widget is only available when the cell has been executed in the\n",
              "      current browser session. Please rerun this cell to enable.\n",
              "      </output>\n",
              "      <script src=\"/nbextensions/google.colab/files.js\"></script> "
            ],
            "text/plain": [
              "<IPython.core.display.HTML object>"
            ]
          },
          "metadata": {
            "tags": []
          }
        },
        {
          "output_type": "stream",
          "text": [
            "Saving ebay.dtd to ebay.dtd\n",
            "Saving ebay.xml to ebay.xml\n",
            "Saving worldcup.teams.json to worldcup.teams.json\n",
            "Saving worldcup.json to worldcup.json\n"
          ],
          "name": "stdout"
        }
      ]
    },
    {
      "cell_type": "markdown",
      "metadata": {
        "id": "LFMUCMgOVJR1"
      },
      "source": [
        "# Part A: Reading json"
      ]
    },
    {
      "cell_type": "code",
      "metadata": {
        "collapsed": true,
        "id": "E_jQdLMQVJR1"
      },
      "source": [
        "# example JSON\n",
        "players = '[{\"name\":\"Gazinsky\",\"team\":\"Russia\"},{\"name\":\"Dzyuba\",\"team\":\"Russia\"},{\"name\":\"Lukaku\",\"team\":\"Belgium\"}]'\n",
        "stadium_data = '{\"stadiums\":[{\"name\": \"Ekaterinburg Arena\",\"city\": \"Ekaterinburg\"},{\"name\": \"Luzhniki Stadium\",\"city\": \"Moscow\"},{\"name\": \"Nizhny Novgorod Stadium\",\"city\": \"Nizhny Novgorod\"}]}'\n",
        "\n"
      ],
      "execution_count": 2,
      "outputs": []
    },
    {
      "cell_type": "code",
      "metadata": {
        "collapsed": true,
        "colab": {
          "base_uri": "https://localhost:8080/"
        },
        "id": "6jwmry7RVJR2",
        "outputId": "46f01517-12d1-4955-a25d-0c844545c47d"
      },
      "source": [
        "# load players string as a json object\n",
        "players_json = json.loads(players)\n",
        "# print dictionary of second player only\n",
        "print(players_json[1][\"name\"])"
      ],
      "execution_count": 12,
      "outputs": [
        {
          "output_type": "stream",
          "text": [
            "Dzyuba\n"
          ],
          "name": "stdout"
        }
      ]
    },
    {
      "cell_type": "code",
      "metadata": {
        "collapsed": true,
        "colab": {
          "base_uri": "https://localhost:8080/"
        },
        "id": "BD3JmoxJVJR2",
        "outputId": "9d7af5c3-7f51-40ab-b737-d416043a4e81"
      },
      "source": [
        "# load stadium_data as a json object\n",
        "stadium_data_json = json.loads(stadium_data)\n",
        "# print city of Luzhniki Stadium\n",
        "print(stadium_data_json[\"stadiums\"][1][\"city\"])"
      ],
      "execution_count": 15,
      "outputs": [
        {
          "output_type": "stream",
          "text": [
            "Moscow\n"
          ],
          "name": "stdout"
        }
      ]
    },
    {
      "cell_type": "code",
      "metadata": {
        "collapsed": true,
        "colab": {
          "base_uri": "https://localhost:8080/"
        },
        "id": "VZvsD4s_VJR2",
        "outputId": "fe7caee8-6799-4e90-bfdf-136513d757a3"
      },
      "source": [
        "# read world cup match data from the json file into a json object\n",
        "f = open(\"worldcup.json\")\n",
        "match_data_json = json.load(f)\n",
        "# print the day of the month of the first match\n",
        "print(match_data_json[\"rounds\"][0][\"matches\"][0][\"date\"])"
      ],
      "execution_count": 32,
      "outputs": [
        {
          "output_type": "stream",
          "text": [
            "2018-06-14\n"
          ],
          "name": "stdout"
        }
      ]
    },
    {
      "cell_type": "code",
      "metadata": {
        "collapsed": true,
        "colab": {
          "base_uri": "https://localhost:8080/"
        },
        "id": "574jGfPGVJR3",
        "outputId": "cf325866-4146-4dbd-f99a-a05947fac719"
      },
      "source": [
        "# read world cup team data from the json file into json object\n",
        "h = open(\"worldcup.teams.json\")\n",
        "team_data_json = json.load(h)\n",
        "# print the name of the first team in the team data set\n",
        "print(team_data_json[\"teams\"][0][\"assoc\"][\"continental\"][\"name\"])"
      ],
      "execution_count": 35,
      "outputs": [
        {
          "output_type": "stream",
          "text": [
            "Confédération Africaine de Football (CAF)\n"
          ],
          "name": "stdout"
        }
      ]
    },
    {
      "cell_type": "code",
      "metadata": {
        "collapsed": true,
        "id": "WsWHKqvtVJR3"
      },
      "source": [
        "# create a list of python json objects with soccer associations and continents\n",
        "# 'association' and 'continent' should be the keys with the following values\n",
        "#\n",
        "# Union of European Football Associations - Europe\n",
        "# Asian Football Confederation - Asia\n",
        "# Confederation Africaine de Football - Africa\n",
        "soccer_list = '[{\"association\" : \"Union of European Football Associations\", \"continent\" : \"Europe\"}, {\"association\" : \"Asian Football Confederation\", \"continent\" : \"Asia\"}, {\"association\" : \"Confederation Africaine de Football\", \"continent\" : \"Africa\"}]'\n",
        "# save the soccer associations as a json string (HINT - str) into a variable named soccerAssoc\n",
        "soccerAssoc = json.loads(soccer_list)"
      ],
      "execution_count": 39,
      "outputs": []
    },
    {
      "cell_type": "markdown",
      "metadata": {
        "id": "pK13qlUxVJR4"
      },
      "source": [
        "# Part B: Flattening json"
      ]
    },
    {
      "cell_type": "code",
      "metadata": {
        "collapsed": true,
        "colab": {
          "base_uri": "https://localhost:8080/",
          "height": 175
        },
        "id": "qw5dnt3XVJR4",
        "outputId": "fe2a0189-cb09-4540-bf68-1cb7bde0b2af"
      },
      "source": [
        "# flatten the player data set into a DataFrame\n",
        "players_df = json_normalize(players_json)\n",
        "# print first few rows of data set\n",
        "players_df"
      ],
      "execution_count": 42,
      "outputs": [
        {
          "output_type": "stream",
          "text": [
            "/usr/local/lib/python3.7/dist-packages/ipykernel_launcher.py:2: FutureWarning: pandas.io.json.json_normalize is deprecated, use pandas.json_normalize instead\n",
            "  \n"
          ],
          "name": "stderr"
        },
        {
          "output_type": "execute_result",
          "data": {
            "text/html": [
              "<div>\n",
              "<style scoped>\n",
              "    .dataframe tbody tr th:only-of-type {\n",
              "        vertical-align: middle;\n",
              "    }\n",
              "\n",
              "    .dataframe tbody tr th {\n",
              "        vertical-align: top;\n",
              "    }\n",
              "\n",
              "    .dataframe thead th {\n",
              "        text-align: right;\n",
              "    }\n",
              "</style>\n",
              "<table border=\"1\" class=\"dataframe\">\n",
              "  <thead>\n",
              "    <tr style=\"text-align: right;\">\n",
              "      <th></th>\n",
              "      <th>name</th>\n",
              "      <th>team</th>\n",
              "    </tr>\n",
              "  </thead>\n",
              "  <tbody>\n",
              "    <tr>\n",
              "      <th>0</th>\n",
              "      <td>Gazinsky</td>\n",
              "      <td>Russia</td>\n",
              "    </tr>\n",
              "    <tr>\n",
              "      <th>1</th>\n",
              "      <td>Dzyuba</td>\n",
              "      <td>Russia</td>\n",
              "    </tr>\n",
              "    <tr>\n",
              "      <th>2</th>\n",
              "      <td>Lukaku</td>\n",
              "      <td>Belgium</td>\n",
              "    </tr>\n",
              "  </tbody>\n",
              "</table>\n",
              "</div>"
            ],
            "text/plain": [
              "       name     team\n",
              "0  Gazinsky   Russia\n",
              "1    Dzyuba   Russia\n",
              "2    Lukaku  Belgium"
            ]
          },
          "metadata": {
            "tags": []
          },
          "execution_count": 42
        }
      ]
    },
    {
      "cell_type": "code",
      "metadata": {
        "collapsed": true,
        "colab": {
          "base_uri": "https://localhost:8080/",
          "height": 175
        },
        "id": "gc3-90axVJR4",
        "outputId": "de93edab-fa02-4fea-f729-02971a7d1171"
      },
      "source": [
        "# flatten the stadium data set into a DataFrame\n",
        "stadium_df = json_normalize(stadium_data_json, record_path=\"stadiums\")\n",
        "# print first few rows of data set\n",
        "stadium_df"
      ],
      "execution_count": 43,
      "outputs": [
        {
          "output_type": "stream",
          "text": [
            "/usr/local/lib/python3.7/dist-packages/ipykernel_launcher.py:2: FutureWarning: pandas.io.json.json_normalize is deprecated, use pandas.json_normalize instead\n",
            "  \n"
          ],
          "name": "stderr"
        },
        {
          "output_type": "execute_result",
          "data": {
            "text/html": [
              "<div>\n",
              "<style scoped>\n",
              "    .dataframe tbody tr th:only-of-type {\n",
              "        vertical-align: middle;\n",
              "    }\n",
              "\n",
              "    .dataframe tbody tr th {\n",
              "        vertical-align: top;\n",
              "    }\n",
              "\n",
              "    .dataframe thead th {\n",
              "        text-align: right;\n",
              "    }\n",
              "</style>\n",
              "<table border=\"1\" class=\"dataframe\">\n",
              "  <thead>\n",
              "    <tr style=\"text-align: right;\">\n",
              "      <th></th>\n",
              "      <th>name</th>\n",
              "      <th>city</th>\n",
              "    </tr>\n",
              "  </thead>\n",
              "  <tbody>\n",
              "    <tr>\n",
              "      <th>0</th>\n",
              "      <td>Ekaterinburg Arena</td>\n",
              "      <td>Ekaterinburg</td>\n",
              "    </tr>\n",
              "    <tr>\n",
              "      <th>1</th>\n",
              "      <td>Luzhniki Stadium</td>\n",
              "      <td>Moscow</td>\n",
              "    </tr>\n",
              "    <tr>\n",
              "      <th>2</th>\n",
              "      <td>Nizhny Novgorod Stadium</td>\n",
              "      <td>Nizhny Novgorod</td>\n",
              "    </tr>\n",
              "  </tbody>\n",
              "</table>\n",
              "</div>"
            ],
            "text/plain": [
              "                      name             city\n",
              "0       Ekaterinburg Arena     Ekaterinburg\n",
              "1         Luzhniki Stadium           Moscow\n",
              "2  Nizhny Novgorod Stadium  Nizhny Novgorod"
            ]
          },
          "metadata": {
            "tags": []
          },
          "execution_count": 43
        }
      ]
    },
    {
      "cell_type": "code",
      "metadata": {
        "collapsed": true,
        "colab": {
          "base_uri": "https://localhost:8080/",
          "height": 254
        },
        "id": "XbAElDqJVJR4",
        "outputId": "21ec1d97-1e4f-4f9f-b771-260e0ad3cb35"
      },
      "source": [
        "# flatten the match data set  into a DataFrame\n",
        "match_df = json_normalize(match_data_json['rounds'], record_path='matches')\n",
        "# print number of rows\n",
        "print(match_df.shape)\n",
        "# print first few rows of data set\n",
        "match_df.head()"
      ],
      "execution_count": 61,
      "outputs": [
        {
          "output_type": "stream",
          "text": [
            "(64, 23)\n"
          ],
          "name": "stdout"
        },
        {
          "output_type": "stream",
          "text": [
            "/usr/local/lib/python3.7/dist-packages/ipykernel_launcher.py:2: FutureWarning: pandas.io.json.json_normalize is deprecated, use pandas.json_normalize instead\n",
            "  \n"
          ],
          "name": "stderr"
        },
        {
          "output_type": "execute_result",
          "data": {
            "text/html": [
              "<div>\n",
              "<style scoped>\n",
              "    .dataframe tbody tr th:only-of-type {\n",
              "        vertical-align: middle;\n",
              "    }\n",
              "\n",
              "    .dataframe tbody tr th {\n",
              "        vertical-align: top;\n",
              "    }\n",
              "\n",
              "    .dataframe thead th {\n",
              "        text-align: right;\n",
              "    }\n",
              "</style>\n",
              "<table border=\"1\" class=\"dataframe\">\n",
              "  <thead>\n",
              "    <tr style=\"text-align: right;\">\n",
              "      <th></th>\n",
              "      <th>num</th>\n",
              "      <th>date</th>\n",
              "      <th>time</th>\n",
              "      <th>score1</th>\n",
              "      <th>score2</th>\n",
              "      <th>score1i</th>\n",
              "      <th>score2i</th>\n",
              "      <th>goals1</th>\n",
              "      <th>goals2</th>\n",
              "      <th>group</th>\n",
              "      <th>city</th>\n",
              "      <th>timezone</th>\n",
              "      <th>team1.name</th>\n",
              "      <th>team1.code</th>\n",
              "      <th>team2.name</th>\n",
              "      <th>team2.code</th>\n",
              "      <th>stadium.key</th>\n",
              "      <th>stadium.name</th>\n",
              "      <th>score1et</th>\n",
              "      <th>score2et</th>\n",
              "      <th>score1p</th>\n",
              "      <th>score2p</th>\n",
              "      <th>knockout</th>\n",
              "    </tr>\n",
              "  </thead>\n",
              "  <tbody>\n",
              "    <tr>\n",
              "      <th>0</th>\n",
              "      <td>1</td>\n",
              "      <td>2018-06-14</td>\n",
              "      <td>18:00</td>\n",
              "      <td>5</td>\n",
              "      <td>0</td>\n",
              "      <td>2</td>\n",
              "      <td>0</td>\n",
              "      <td>[{'name': 'Gazinsky', 'minute': 12, 'score1': ...</td>\n",
              "      <td>[]</td>\n",
              "      <td>Group A</td>\n",
              "      <td>Moscow</td>\n",
              "      <td>UTC+3</td>\n",
              "      <td>Russia</td>\n",
              "      <td>RUS</td>\n",
              "      <td>Saudi Arabia</td>\n",
              "      <td>KSA</td>\n",
              "      <td>luzhniki</td>\n",
              "      <td>Luzhniki Stadium</td>\n",
              "      <td>NaN</td>\n",
              "      <td>NaN</td>\n",
              "      <td>NaN</td>\n",
              "      <td>NaN</td>\n",
              "      <td>NaN</td>\n",
              "    </tr>\n",
              "    <tr>\n",
              "      <th>1</th>\n",
              "      <td>2</td>\n",
              "      <td>2018-06-15</td>\n",
              "      <td>17:00</td>\n",
              "      <td>0</td>\n",
              "      <td>1</td>\n",
              "      <td>0</td>\n",
              "      <td>0</td>\n",
              "      <td>[]</td>\n",
              "      <td>[{'name': 'Giménez', 'minute': 89, 'score1': 0...</td>\n",
              "      <td>Group A</td>\n",
              "      <td>Ekaterinburg</td>\n",
              "      <td>UTC+5</td>\n",
              "      <td>Egypt</td>\n",
              "      <td>EGY</td>\n",
              "      <td>Uruguay</td>\n",
              "      <td>URU</td>\n",
              "      <td>ekaterinburg</td>\n",
              "      <td>Ekaterinburg Arena</td>\n",
              "      <td>NaN</td>\n",
              "      <td>NaN</td>\n",
              "      <td>NaN</td>\n",
              "      <td>NaN</td>\n",
              "      <td>NaN</td>\n",
              "    </tr>\n",
              "    <tr>\n",
              "      <th>2</th>\n",
              "      <td>3</td>\n",
              "      <td>2018-06-15</td>\n",
              "      <td>21:00</td>\n",
              "      <td>3</td>\n",
              "      <td>3</td>\n",
              "      <td>2</td>\n",
              "      <td>1</td>\n",
              "      <td>[{'name': 'Ronaldo', 'minute': 4, 'score1': 1,...</td>\n",
              "      <td>[{'name': 'Costa', 'minute': 24, 'score1': 1, ...</td>\n",
              "      <td>Group B</td>\n",
              "      <td>Sochi</td>\n",
              "      <td>UTC+3</td>\n",
              "      <td>Portugal</td>\n",
              "      <td>POR</td>\n",
              "      <td>Spain</td>\n",
              "      <td>ESP</td>\n",
              "      <td>fisht</td>\n",
              "      <td>Fisht Stadium</td>\n",
              "      <td>NaN</td>\n",
              "      <td>NaN</td>\n",
              "      <td>NaN</td>\n",
              "      <td>NaN</td>\n",
              "      <td>NaN</td>\n",
              "    </tr>\n",
              "    <tr>\n",
              "      <th>3</th>\n",
              "      <td>4</td>\n",
              "      <td>2018-06-15</td>\n",
              "      <td>18:00</td>\n",
              "      <td>0</td>\n",
              "      <td>1</td>\n",
              "      <td>0</td>\n",
              "      <td>0</td>\n",
              "      <td>[]</td>\n",
              "      <td>[{'name': 'Bouhaddouz', 'minute': 90, 'offset'...</td>\n",
              "      <td>Group B</td>\n",
              "      <td>Saint Petersburg</td>\n",
              "      <td>UTC+3</td>\n",
              "      <td>Morocco</td>\n",
              "      <td>MAR</td>\n",
              "      <td>Iran</td>\n",
              "      <td>IRN</td>\n",
              "      <td>saintpetersburg</td>\n",
              "      <td>Saint Petersburg Stadium</td>\n",
              "      <td>NaN</td>\n",
              "      <td>NaN</td>\n",
              "      <td>NaN</td>\n",
              "      <td>NaN</td>\n",
              "      <td>NaN</td>\n",
              "    </tr>\n",
              "    <tr>\n",
              "      <th>4</th>\n",
              "      <td>5</td>\n",
              "      <td>2018-06-16</td>\n",
              "      <td>13:00</td>\n",
              "      <td>2</td>\n",
              "      <td>1</td>\n",
              "      <td>0</td>\n",
              "      <td>0</td>\n",
              "      <td>[{'name': 'Griezmann', 'minute': 58, 'score1':...</td>\n",
              "      <td>[{'name': 'Jedinak', 'minute': 62, 'score1': 1...</td>\n",
              "      <td>Group C</td>\n",
              "      <td>Kazan</td>\n",
              "      <td>UTC+3</td>\n",
              "      <td>France</td>\n",
              "      <td>FRA</td>\n",
              "      <td>Australia</td>\n",
              "      <td>AUS</td>\n",
              "      <td>kazan</td>\n",
              "      <td>Kazan Arena</td>\n",
              "      <td>NaN</td>\n",
              "      <td>NaN</td>\n",
              "      <td>NaN</td>\n",
              "      <td>NaN</td>\n",
              "      <td>NaN</td>\n",
              "    </tr>\n",
              "  </tbody>\n",
              "</table>\n",
              "</div>"
            ],
            "text/plain": [
              "   num        date   time  score1  ...  score2et  score1p  score2p knockout\n",
              "0    1  2018-06-14  18:00       5  ...       NaN      NaN      NaN      NaN\n",
              "1    2  2018-06-15  17:00       0  ...       NaN      NaN      NaN      NaN\n",
              "2    3  2018-06-15  21:00       3  ...       NaN      NaN      NaN      NaN\n",
              "3    4  2018-06-15  18:00       0  ...       NaN      NaN      NaN      NaN\n",
              "4    5  2018-06-16  13:00       2  ...       NaN      NaN      NaN      NaN\n",
              "\n",
              "[5 rows x 23 columns]"
            ]
          },
          "metadata": {
            "tags": []
          },
          "execution_count": 61
        }
      ]
    },
    {
      "cell_type": "code",
      "metadata": {
        "collapsed": true,
        "colab": {
          "base_uri": "https://localhost:8080/",
          "height": 237
        },
        "id": "Tx_7wCcoVJR4",
        "outputId": "0148f727-aa5f-444a-b087-f50365cbd36c"
      },
      "source": [
        "# flatten team data set into a DataFrame\n",
        "team_df = json_normalize(team_data_json['teams'])\n",
        "# print first few rows of data set\n",
        "team_df.head()"
      ],
      "execution_count": 57,
      "outputs": [
        {
          "output_type": "stream",
          "text": [
            "/usr/local/lib/python3.7/dist-packages/ipykernel_launcher.py:2: FutureWarning: pandas.io.json.json_normalize is deprecated, use pandas.json_normalize instead\n",
            "  \n"
          ],
          "name": "stderr"
        },
        {
          "output_type": "execute_result",
          "data": {
            "text/html": [
              "<div>\n",
              "<style scoped>\n",
              "    .dataframe tbody tr th:only-of-type {\n",
              "        vertical-align: middle;\n",
              "    }\n",
              "\n",
              "    .dataframe tbody tr th {\n",
              "        vertical-align: top;\n",
              "    }\n",
              "\n",
              "    .dataframe thead th {\n",
              "        text-align: right;\n",
              "    }\n",
              "</style>\n",
              "<table border=\"1\" class=\"dataframe\">\n",
              "  <thead>\n",
              "    <tr style=\"text-align: right;\">\n",
              "      <th></th>\n",
              "      <th>name</th>\n",
              "      <th>code</th>\n",
              "      <th>continent</th>\n",
              "      <th>assoc.key</th>\n",
              "      <th>assoc.name</th>\n",
              "      <th>assoc.continental.name</th>\n",
              "      <th>assoc.continental.code</th>\n",
              "    </tr>\n",
              "  </thead>\n",
              "  <tbody>\n",
              "    <tr>\n",
              "      <th>0</th>\n",
              "      <td>Egypt</td>\n",
              "      <td>EGY</td>\n",
              "      <td>Africa</td>\n",
              "      <td>egy</td>\n",
              "      <td>Egyptian Football Association</td>\n",
              "      <td>Confédération Africaine de Football (CAF)</td>\n",
              "      <td>CAF</td>\n",
              "    </tr>\n",
              "    <tr>\n",
              "      <th>1</th>\n",
              "      <td>Morocco</td>\n",
              "      <td>MAR</td>\n",
              "      <td>Africa</td>\n",
              "      <td>mar</td>\n",
              "      <td>Fédération Royale Marocaine de Football</td>\n",
              "      <td>Confédération Africaine de Football (CAF)</td>\n",
              "      <td>CAF</td>\n",
              "    </tr>\n",
              "    <tr>\n",
              "      <th>2</th>\n",
              "      <td>Tunisia</td>\n",
              "      <td>TUN</td>\n",
              "      <td>Africa</td>\n",
              "      <td>tun</td>\n",
              "      <td>Fédération Tunisienne de Football</td>\n",
              "      <td>Confédération Africaine de Football (CAF)</td>\n",
              "      <td>CAF</td>\n",
              "    </tr>\n",
              "    <tr>\n",
              "      <th>3</th>\n",
              "      <td>Senegal</td>\n",
              "      <td>SEN</td>\n",
              "      <td>Africa</td>\n",
              "      <td>sen</td>\n",
              "      <td>Fédération Sénégalaise de Football</td>\n",
              "      <td>Confédération Africaine de Football (CAF)</td>\n",
              "      <td>CAF</td>\n",
              "    </tr>\n",
              "    <tr>\n",
              "      <th>4</th>\n",
              "      <td>Nigeria</td>\n",
              "      <td>NGA</td>\n",
              "      <td>Africa</td>\n",
              "      <td>nga</td>\n",
              "      <td>Nigeria Football Federation</td>\n",
              "      <td>Confédération Africaine de Football (CAF)</td>\n",
              "      <td>CAF</td>\n",
              "    </tr>\n",
              "  </tbody>\n",
              "</table>\n",
              "</div>"
            ],
            "text/plain": [
              "      name  ... assoc.continental.code\n",
              "0    Egypt  ...                    CAF\n",
              "1  Morocco  ...                    CAF\n",
              "2  Tunisia  ...                    CAF\n",
              "3  Senegal  ...                    CAF\n",
              "4  Nigeria  ...                    CAF\n",
              "\n",
              "[5 rows x 7 columns]"
            ]
          },
          "metadata": {
            "tags": []
          },
          "execution_count": 57
        }
      ]
    },
    {
      "cell_type": "code",
      "metadata": {
        "collapsed": true,
        "colab": {
          "base_uri": "https://localhost:8080/",
          "height": 175
        },
        "id": "2KQz6FtcVJR4",
        "outputId": "212b9560-13b8-4ae3-be9a-70a587c320bd"
      },
      "source": [
        "# flatten the association data set into a DataFrame\n",
        "soccer_df = json_normalize(soccerAssoc)\n",
        "# print first few rows of data set\n",
        "soccer_df.head()"
      ],
      "execution_count": 62,
      "outputs": [
        {
          "output_type": "stream",
          "text": [
            "/usr/local/lib/python3.7/dist-packages/ipykernel_launcher.py:2: FutureWarning: pandas.io.json.json_normalize is deprecated, use pandas.json_normalize instead\n",
            "  \n"
          ],
          "name": "stderr"
        },
        {
          "output_type": "execute_result",
          "data": {
            "text/html": [
              "<div>\n",
              "<style scoped>\n",
              "    .dataframe tbody tr th:only-of-type {\n",
              "        vertical-align: middle;\n",
              "    }\n",
              "\n",
              "    .dataframe tbody tr th {\n",
              "        vertical-align: top;\n",
              "    }\n",
              "\n",
              "    .dataframe thead th {\n",
              "        text-align: right;\n",
              "    }\n",
              "</style>\n",
              "<table border=\"1\" class=\"dataframe\">\n",
              "  <thead>\n",
              "    <tr style=\"text-align: right;\">\n",
              "      <th></th>\n",
              "      <th>association</th>\n",
              "      <th>continent</th>\n",
              "    </tr>\n",
              "  </thead>\n",
              "  <tbody>\n",
              "    <tr>\n",
              "      <th>0</th>\n",
              "      <td>Union of European Football Associations</td>\n",
              "      <td>Europe</td>\n",
              "    </tr>\n",
              "    <tr>\n",
              "      <th>1</th>\n",
              "      <td>Asian Football Confederation</td>\n",
              "      <td>Asia</td>\n",
              "    </tr>\n",
              "    <tr>\n",
              "      <th>2</th>\n",
              "      <td>Confederation Africaine de Football</td>\n",
              "      <td>Africa</td>\n",
              "    </tr>\n",
              "  </tbody>\n",
              "</table>\n",
              "</div>"
            ],
            "text/plain": [
              "                               association continent\n",
              "0  Union of European Football Associations    Europe\n",
              "1             Asian Football Confederation      Asia\n",
              "2      Confederation Africaine de Football    Africa"
            ]
          },
          "metadata": {
            "tags": []
          },
          "execution_count": 62
        }
      ]
    },
    {
      "cell_type": "markdown",
      "metadata": {
        "id": "uKxjd_STVJR5"
      },
      "source": [
        "# Part C: XML"
      ]
    },
    {
      "cell_type": "code",
      "metadata": {
        "collapsed": true,
        "id": "QJXxE6RMVJR5"
      },
      "source": [
        "# convert the players json into an XML string (by hand) \n",
        "<?xml version=\"1.0\" ?>\n",
        "<players>\n",
        "  <player>\n",
        "    <name>Gazinsky</name>\n",
        "    <team>Russia</team>\n",
        "  </player>\n",
        "  <player>\n",
        "    <name>Dzyuba</name>\n",
        "    <team>Russia</team>\n",
        "  </player>\n",
        "  <player>\n",
        "    <name>Lukaku</name>\n",
        "    <team>Belgium</team>\n",
        "  </player>\n",
        "</players>"
      ],
      "execution_count": null,
      "outputs": []
    },
    {
      "cell_type": "code",
      "metadata": {
        "collapsed": true,
        "id": "agAuDy9aVJR5"
      },
      "source": [
        "# convert the stadium json into an XML string (by hand)\n",
        "<?xml version=\"1.0\" ?>\n",
        "<stadiums>\n",
        "  <stadium>\n",
        "    <name>Ekaterinburg Arena</name>\n",
        "    <city>Ekaterinburg</city>\n",
        "  </stadium>\n",
        "  <stadium>\n",
        "    <name>Luzhniki Stadium</name>\n",
        "    <city>Moscow</city>\n",
        "  </stadium>\n",
        "  <stadium>\n",
        "    <name>Nizhny Novgorod Stadium</name>\n",
        "    <city>Nizhny Novgorod</city>\n",
        "  </stadium>\n",
        "</stadiums>"
      ],
      "execution_count": null,
      "outputs": []
    },
    {
      "cell_type": "code",
      "metadata": {
        "collapsed": true,
        "id": "xFoqfzNqVJR5"
      },
      "source": [
        "# write a string with an XML DTD corresponding to the players XML\n",
        "\"<!DOCTYPE players [ <!ELEMENT players (player, name, team)> <!ELEMENT player (#PCDATA)> <!ELEMENT name (#PCDATA)> <!ELEMENT team (#PCDATA)>]>\""
      ],
      "execution_count": null,
      "outputs": []
    },
    {
      "cell_type": "code",
      "metadata": {
        "collapsed": true,
        "id": "WFi1mQAMVJR5"
      },
      "source": [
        "# write a string with an XML DTD corresponding to the stadiums XML\n",
        "\"<!DOCTYPE stadiums [ <!ELEMENT stadium (name, city)> <!ELEMENT name (#PCDATA)> <!ELEMENT city (#PCDATA)>]>\""
      ],
      "execution_count": null,
      "outputs": []
    },
    {
      "cell_type": "code",
      "metadata": {
        "collapsed": true,
        "colab": {
          "base_uri": "https://localhost:8080/"
        },
        "id": "nkGjooG0VJR6",
        "outputId": "a985c2a3-1a5d-4e4b-e49a-c3f2e6afaa1c"
      },
      "source": [
        "# read in file ebay.xml as an element tree\n",
        "ebay_etree = ET.parse('ebay.xml')\n",
        "ebay_eroot = ebay_etree.getroot()\n",
        "\n",
        "# print element tree object\n",
        "print(ebay_etree)\n",
        "\n"
      ],
      "execution_count": 71,
      "outputs": [
        {
          "output_type": "stream",
          "text": [
            "<xml.etree.ElementTree.ElementTree object at 0x7fde45538b90>\n"
          ],
          "name": "stdout"
        }
      ]
    },
    {
      "cell_type": "code",
      "metadata": {
        "collapsed": true,
        "id": "Zz5rJS5BVJR6"
      },
      "source": [
        "# print the main contents (may have multiple for loops here, 3 levels...or better yet, recursion)\n",
        "\n",
        "\n"
      ],
      "execution_count": null,
      "outputs": []
    },
    {
      "cell_type": "code",
      "metadata": {
        "id": "YPBIiEEBVJR6"
      },
      "source": [
        "# validate the ebay.xml with the ebay.dtd\n",
        "from lxml import etree\n",
        "\n",
        "def validate(xml_path: str, dtd_path: str) -> bool:\n",
        "\n",
        "    parser = etree.XMLParser(dtd_validation=True)\n",
        "    dtd = etree.DTD(open(dtd_path))\n",
        "    tree = etree.parse(xml_path)\n",
        "\n",
        "    valid = dtd.validate(tree)\n",
        "\n",
        "    return valid\n",
        "\n",
        "\n",
        "if validate(\"ebay.xml\", \"ebay.dtd\"):\n",
        "    print('Valid')\n",
        "else:\n",
        "    print('Invalid')"
      ],
      "execution_count": null,
      "outputs": []
    },
    {
      "cell_type": "markdown",
      "metadata": {
        "id": "VSnJpr7aVJR6"
      },
      "source": [
        "# Part D: SQL"
      ]
    },
    {
      "cell_type": "code",
      "metadata": {
        "collapsed": true,
        "id": "YFXYWn-1VJR6"
      },
      "source": [
        "# create a database and sql connection \n",
        "sql_connect = sqlite3.connect('lab5.db')"
      ],
      "execution_count": 72,
      "outputs": []
    },
    {
      "cell_type": "code",
      "metadata": {
        "collapsed": true,
        "id": "wce4mcUqVJR6"
      },
      "source": [
        "# save the players data set as a sql table\n",
        "players_df.to_sql(\"Players\", sql_connect)"
      ],
      "execution_count": 73,
      "outputs": []
    },
    {
      "cell_type": "code",
      "metadata": {
        "collapsed": true,
        "id": "YmIeo8ThVJR6"
      },
      "source": [
        "# save the stadiums data set as a sql table\n",
        "stadium_df.to_sql(\"Stadiums\", sql_connect)"
      ],
      "execution_count": 74,
      "outputs": []
    },
    {
      "cell_type": "code",
      "metadata": {
        "collapsed": true,
        "id": "VdXsfjY1VJR7"
      },
      "source": [
        "# save the match data set as a sql table\n",
        "# HINT: You'll need to flatten stadium, team1, team2 and you can ignore goals1, goals2\n"
      ],
      "execution_count": null,
      "outputs": []
    },
    {
      "cell_type": "code",
      "metadata": {
        "collapsed": true,
        "id": "8HDytheuVJR7"
      },
      "source": [
        "# save the teams data set as a sql table\n",
        "# HINT: You can remove the association variable\n"
      ],
      "execution_count": null,
      "outputs": []
    },
    {
      "cell_type": "code",
      "metadata": {
        "collapsed": true,
        "id": "TD2PLKKOVJR7"
      },
      "source": [
        "# select only those rows that Mexico played and write to a data frame\n",
        "# HINT: You'll need to use the WHERE to select the right rows\n",
        "\n",
        "\n",
        "# count the number of rows in the data frame\n",
        "\n",
        "\n",
        "# write the first few rows of the data frame\n"
      ],
      "execution_count": null,
      "outputs": []
    },
    {
      "cell_type": "code",
      "metadata": {
        "collapsed": true,
        "id": "UuBpjWEWVJR7"
      },
      "source": [
        "# select only those rows that were ties\n",
        "# HINT: By tie it means that score1 is the same as score2\n",
        "\n",
        "\n",
        "# count the number of rows in the data frame\n",
        "\n",
        "\n",
        "# write the first few rows of the data frame\n"
      ],
      "execution_count": null,
      "outputs": []
    }
  ]
}