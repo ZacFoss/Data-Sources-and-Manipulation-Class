{
  "nbformat": 4,
  "nbformat_minor": 0,
  "metadata": {
    "kernelspec": {
      "display_name": "Python 3",
      "language": "python",
      "name": "python3"
    },
    "language_info": {
      "codemirror_mode": {
        "name": "ipython",
        "version": 3
      },
      "file_extension": ".py",
      "mimetype": "text/x-python",
      "name": "python",
      "nbconvert_exporter": "python",
      "pygments_lexer": "ipython3",
      "version": "3.7.4"
    },
    "colab": {
      "name": "username_inst447_esg1_lab_3.ipynb",
      "provenance": [],
      "collapsed_sections": []
    }
  },
  "cells": [
    {
      "cell_type": "markdown",
      "metadata": {
        "id": "I3A62TbXcifC"
      },
      "source": [
        "# Lab 3 Data Basics\n",
        "Selection\n",
        "\n",
        "\n",
        "Installations\n",
        "- Install Python 3\n",
        "- Install Jupyter Notebooks\n",
        "- Install modules you need, such as pandas (>pip3 install pandas) and numpy"
      ]
    },
    {
      "cell_type": "code",
      "metadata": {
        "colab": {
          "resources": {
            "http://localhost:8080/nbextensions/google.colab/files.js": {
              "data": "Ly8gQ29weXJpZ2h0IDIwMTcgR29vZ2xlIExMQwovLwovLyBMaWNlbnNlZCB1bmRlciB0aGUgQXBhY2hlIExpY2Vuc2UsIFZlcnNpb24gMi4wICh0aGUgIkxpY2Vuc2UiKTsKLy8geW91IG1heSBub3QgdXNlIHRoaXMgZmlsZSBleGNlcHQgaW4gY29tcGxpYW5jZSB3aXRoIHRoZSBMaWNlbnNlLgovLyBZb3UgbWF5IG9idGFpbiBhIGNvcHkgb2YgdGhlIExpY2Vuc2UgYXQKLy8KLy8gICAgICBodHRwOi8vd3d3LmFwYWNoZS5vcmcvbGljZW5zZXMvTElDRU5TRS0yLjAKLy8KLy8gVW5sZXNzIHJlcXVpcmVkIGJ5IGFwcGxpY2FibGUgbGF3IG9yIGFncmVlZCB0byBpbiB3cml0aW5nLCBzb2Z0d2FyZQovLyBkaXN0cmlidXRlZCB1bmRlciB0aGUgTGljZW5zZSBpcyBkaXN0cmlidXRlZCBvbiBhbiAiQVMgSVMiIEJBU0lTLAovLyBXSVRIT1VUIFdBUlJBTlRJRVMgT1IgQ09ORElUSU9OUyBPRiBBTlkgS0lORCwgZWl0aGVyIGV4cHJlc3Mgb3IgaW1wbGllZC4KLy8gU2VlIHRoZSBMaWNlbnNlIGZvciB0aGUgc3BlY2lmaWMgbGFuZ3VhZ2UgZ292ZXJuaW5nIHBlcm1pc3Npb25zIGFuZAovLyBsaW1pdGF0aW9ucyB1bmRlciB0aGUgTGljZW5zZS4KCi8qKgogKiBAZmlsZW92ZXJ2aWV3IEhlbHBlcnMgZm9yIGdvb2dsZS5jb2xhYiBQeXRob24gbW9kdWxlLgogKi8KKGZ1bmN0aW9uKHNjb3BlKSB7CmZ1bmN0aW9uIHNwYW4odGV4dCwgc3R5bGVBdHRyaWJ1dGVzID0ge30pIHsKICBjb25zdCBlbGVtZW50ID0gZG9jdW1lbnQuY3JlYXRlRWxlbWVudCgnc3BhbicpOwogIGVsZW1lbnQudGV4dENvbnRlbnQgPSB0ZXh0OwogIGZvciAoY29uc3Qga2V5IG9mIE9iamVjdC5rZXlzKHN0eWxlQXR0cmlidXRlcykpIHsKICAgIGVsZW1lbnQuc3R5bGVba2V5XSA9IHN0eWxlQXR0cmlidXRlc1trZXldOwogIH0KICByZXR1cm4gZWxlbWVudDsKfQoKLy8gTWF4IG51bWJlciBvZiBieXRlcyB3aGljaCB3aWxsIGJlIHVwbG9hZGVkIGF0IGEgdGltZS4KY29uc3QgTUFYX1BBWUxPQURfU0laRSA9IDEwMCAqIDEwMjQ7CgpmdW5jdGlvbiBfdXBsb2FkRmlsZXMoaW5wdXRJZCwgb3V0cHV0SWQpIHsKICBjb25zdCBzdGVwcyA9IHVwbG9hZEZpbGVzU3RlcChpbnB1dElkLCBvdXRwdXRJZCk7CiAgY29uc3Qgb3V0cHV0RWxlbWVudCA9IGRvY3VtZW50LmdldEVsZW1lbnRCeUlkKG91dHB1dElkKTsKICAvLyBDYWNoZSBzdGVwcyBvbiB0aGUgb3V0cHV0RWxlbWVudCB0byBtYWtlIGl0IGF2YWlsYWJsZSBmb3IgdGhlIG5leHQgY2FsbAogIC8vIHRvIHVwbG9hZEZpbGVzQ29udGludWUgZnJvbSBQeXRob24uCiAgb3V0cHV0RWxlbWVudC5zdGVwcyA9IHN0ZXBzOwoKICByZXR1cm4gX3VwbG9hZEZpbGVzQ29udGludWUob3V0cHV0SWQpOwp9CgovLyBUaGlzIGlzIHJvdWdobHkgYW4gYXN5bmMgZ2VuZXJhdG9yIChub3Qgc3VwcG9ydGVkIGluIHRoZSBicm93c2VyIHlldCksCi8vIHdoZXJlIHRoZXJlIGFyZSBtdWx0aXBsZSBhc3luY2hyb25vdXMgc3RlcHMgYW5kIHRoZSBQeXRob24gc2lkZSBpcyBnb2luZwovLyB0byBwb2xsIGZvciBjb21wbGV0aW9uIG9mIGVhY2ggc3RlcC4KLy8gVGhpcyB1c2VzIGEgUHJvbWlzZSB0byBibG9jayB0aGUgcHl0aG9uIHNpZGUgb24gY29tcGxldGlvbiBvZiBlYWNoIHN0ZXAsCi8vIHRoZW4gcGFzc2VzIHRoZSByZXN1bHQgb2YgdGhlIHByZXZpb3VzIHN0ZXAgYXMgdGhlIGlucHV0IHRvIHRoZSBuZXh0IHN0ZXAuCmZ1bmN0aW9uIF91cGxvYWRGaWxlc0NvbnRpbnVlKG91dHB1dElkKSB7CiAgY29uc3Qgb3V0cHV0RWxlbWVudCA9IGRvY3VtZW50LmdldEVsZW1lbnRCeUlkKG91dHB1dElkKTsKICBjb25zdCBzdGVwcyA9IG91dHB1dEVsZW1lbnQuc3RlcHM7CgogIGNvbnN0IG5leHQgPSBzdGVwcy5uZXh0KG91dHB1dEVsZW1lbnQubGFzdFByb21pc2VWYWx1ZSk7CiAgcmV0dXJuIFByb21pc2UucmVzb2x2ZShuZXh0LnZhbHVlLnByb21pc2UpLnRoZW4oKHZhbHVlKSA9PiB7CiAgICAvLyBDYWNoZSB0aGUgbGFzdCBwcm9taXNlIHZhbHVlIHRvIG1ha2UgaXQgYXZhaWxhYmxlIHRvIHRoZSBuZXh0CiAgICAvLyBzdGVwIG9mIHRoZSBnZW5lcmF0b3IuCiAgICBvdXRwdXRFbGVtZW50Lmxhc3RQcm9taXNlVmFsdWUgPSB2YWx1ZTsKICAgIHJldHVybiBuZXh0LnZhbHVlLnJlc3BvbnNlOwogIH0pOwp9CgovKioKICogR2VuZXJhdG9yIGZ1bmN0aW9uIHdoaWNoIGlzIGNhbGxlZCBiZXR3ZWVuIGVhY2ggYXN5bmMgc3RlcCBvZiB0aGUgdXBsb2FkCiAqIHByb2Nlc3MuCiAqIEBwYXJhbSB7c3RyaW5nfSBpbnB1dElkIEVsZW1lbnQgSUQgb2YgdGhlIGlucHV0IGZpbGUgcGlja2VyIGVsZW1lbnQuCiAqIEBwYXJhbSB7c3RyaW5nfSBvdXRwdXRJZCBFbGVtZW50IElEIG9mIHRoZSBvdXRwdXQgZGlzcGxheS4KICogQHJldHVybiB7IUl0ZXJhYmxlPCFPYmplY3Q+fSBJdGVyYWJsZSBvZiBuZXh0IHN0ZXBzLgogKi8KZnVuY3Rpb24qIHVwbG9hZEZpbGVzU3RlcChpbnB1dElkLCBvdXRwdXRJZCkgewogIGNvbnN0IGlucHV0RWxlbWVudCA9IGRvY3VtZW50LmdldEVsZW1lbnRCeUlkKGlucHV0SWQpOwogIGlucHV0RWxlbWVudC5kaXNhYmxlZCA9IGZhbHNlOwoKICBjb25zdCBvdXRwdXRFbGVtZW50ID0gZG9jdW1lbnQuZ2V0RWxlbWVudEJ5SWQob3V0cHV0SWQpOwogIG91dHB1dEVsZW1lbnQuaW5uZXJIVE1MID0gJyc7CgogIGNvbnN0IHBpY2tlZFByb21pc2UgPSBuZXcgUHJvbWlzZSgocmVzb2x2ZSkgPT4gewogICAgaW5wdXRFbGVtZW50LmFkZEV2ZW50TGlzdGVuZXIoJ2NoYW5nZScsIChlKSA9PiB7CiAgICAgIHJlc29sdmUoZS50YXJnZXQuZmlsZXMpOwogICAgfSk7CiAgfSk7CgogIGNvbnN0IGNhbmNlbCA9IGRvY3VtZW50LmNyZWF0ZUVsZW1lbnQoJ2J1dHRvbicpOwogIGlucHV0RWxlbWVudC5wYXJlbnRFbGVtZW50LmFwcGVuZENoaWxkKGNhbmNlbCk7CiAgY2FuY2VsLnRleHRDb250ZW50ID0gJ0NhbmNlbCB1cGxvYWQnOwogIGNvbnN0IGNhbmNlbFByb21pc2UgPSBuZXcgUHJvbWlzZSgocmVzb2x2ZSkgPT4gewogICAgY2FuY2VsLm9uY2xpY2sgPSAoKSA9PiB7CiAgICAgIHJlc29sdmUobnVsbCk7CiAgICB9OwogIH0pOwoKICAvLyBXYWl0IGZvciB0aGUgdXNlciB0byBwaWNrIHRoZSBmaWxlcy4KICBjb25zdCBmaWxlcyA9IHlpZWxkIHsKICAgIHByb21pc2U6IFByb21pc2UucmFjZShbcGlja2VkUHJvbWlzZSwgY2FuY2VsUHJvbWlzZV0pLAogICAgcmVzcG9uc2U6IHsKICAgICAgYWN0aW9uOiAnc3RhcnRpbmcnLAogICAgfQogIH07CgogIGNhbmNlbC5yZW1vdmUoKTsKCiAgLy8gRGlzYWJsZSB0aGUgaW5wdXQgZWxlbWVudCBzaW5jZSBmdXJ0aGVyIHBpY2tzIGFyZSBub3QgYWxsb3dlZC4KICBpbnB1dEVsZW1lbnQuZGlzYWJsZWQgPSB0cnVlOwoKICBpZiAoIWZpbGVzKSB7CiAgICByZXR1cm4gewogICAgICByZXNwb25zZTogewogICAgICAgIGFjdGlvbjogJ2NvbXBsZXRlJywKICAgICAgfQogICAgfTsKICB9CgogIGZvciAoY29uc3QgZmlsZSBvZiBmaWxlcykgewogICAgY29uc3QgbGkgPSBkb2N1bWVudC5jcmVhdGVFbGVtZW50KCdsaScpOwogICAgbGkuYXBwZW5kKHNwYW4oZmlsZS5uYW1lLCB7Zm9udFdlaWdodDogJ2JvbGQnfSkpOwogICAgbGkuYXBwZW5kKHNwYW4oCiAgICAgICAgYCgke2ZpbGUudHlwZSB8fCAnbi9hJ30pIC0gJHtmaWxlLnNpemV9IGJ5dGVzLCBgICsKICAgICAgICBgbGFzdCBtb2RpZmllZDogJHsKICAgICAgICAgICAgZmlsZS5sYXN0TW9kaWZpZWREYXRlID8gZmlsZS5sYXN0TW9kaWZpZWREYXRlLnRvTG9jYWxlRGF0ZVN0cmluZygpIDoKICAgICAgICAgICAgICAgICAgICAgICAgICAgICAgICAgICAgJ24vYSd9IC0gYCkpOwogICAgY29uc3QgcGVyY2VudCA9IHNwYW4oJzAlIGRvbmUnKTsKICAgIGxpLmFwcGVuZENoaWxkKHBlcmNlbnQpOwoKICAgIG91dHB1dEVsZW1lbnQuYXBwZW5kQ2hpbGQobGkpOwoKICAgIGNvbnN0IGZpbGVEYXRhUHJvbWlzZSA9IG5ldyBQcm9taXNlKChyZXNvbHZlKSA9PiB7CiAgICAgIGNvbnN0IHJlYWRlciA9IG5ldyBGaWxlUmVhZGVyKCk7CiAgICAgIHJlYWRlci5vbmxvYWQgPSAoZSkgPT4gewogICAgICAgIHJlc29sdmUoZS50YXJnZXQucmVzdWx0KTsKICAgICAgfTsKICAgICAgcmVhZGVyLnJlYWRBc0FycmF5QnVmZmVyKGZpbGUpOwogICAgfSk7CiAgICAvLyBXYWl0IGZvciB0aGUgZGF0YSB0byBiZSByZWFkeS4KICAgIGxldCBmaWxlRGF0YSA9IHlpZWxkIHsKICAgICAgcHJvbWlzZTogZmlsZURhdGFQcm9taXNlLAogICAgICByZXNwb25zZTogewogICAgICAgIGFjdGlvbjogJ2NvbnRpbnVlJywKICAgICAgfQogICAgfTsKCiAgICAvLyBVc2UgYSBjaHVua2VkIHNlbmRpbmcgdG8gYXZvaWQgbWVzc2FnZSBzaXplIGxpbWl0cy4gU2VlIGIvNjIxMTU2NjAuCiAgICBsZXQgcG9zaXRpb24gPSAwOwogICAgd2hpbGUgKHBvc2l0aW9uIDwgZmlsZURhdGEuYnl0ZUxlbmd0aCkgewogICAgICBjb25zdCBsZW5ndGggPSBNYXRoLm1pbihmaWxlRGF0YS5ieXRlTGVuZ3RoIC0gcG9zaXRpb24sIE1BWF9QQVlMT0FEX1NJWkUpOwogICAgICBjb25zdCBjaHVuayA9IG5ldyBVaW50OEFycmF5KGZpbGVEYXRhLCBwb3NpdGlvbiwgbGVuZ3RoKTsKICAgICAgcG9zaXRpb24gKz0gbGVuZ3RoOwoKICAgICAgY29uc3QgYmFzZTY0ID0gYnRvYShTdHJpbmcuZnJvbUNoYXJDb2RlLmFwcGx5KG51bGwsIGNodW5rKSk7CiAgICAgIHlpZWxkIHsKICAgICAgICByZXNwb25zZTogewogICAgICAgICAgYWN0aW9uOiAnYXBwZW5kJywKICAgICAgICAgIGZpbGU6IGZpbGUubmFtZSwKICAgICAgICAgIGRhdGE6IGJhc2U2NCwKICAgICAgICB9LAogICAgICB9OwogICAgICBwZXJjZW50LnRleHRDb250ZW50ID0KICAgICAgICAgIGAke01hdGgucm91bmQoKHBvc2l0aW9uIC8gZmlsZURhdGEuYnl0ZUxlbmd0aCkgKiAxMDApfSUgZG9uZWA7CiAgICB9CiAgfQoKICAvLyBBbGwgZG9uZS4KICB5aWVsZCB7CiAgICByZXNwb25zZTogewogICAgICBhY3Rpb246ICdjb21wbGV0ZScsCiAgICB9CiAgfTsKfQoKc2NvcGUuZ29vZ2xlID0gc2NvcGUuZ29vZ2xlIHx8IHt9OwpzY29wZS5nb29nbGUuY29sYWIgPSBzY29wZS5nb29nbGUuY29sYWIgfHwge307CnNjb3BlLmdvb2dsZS5jb2xhYi5fZmlsZXMgPSB7CiAgX3VwbG9hZEZpbGVzLAogIF91cGxvYWRGaWxlc0NvbnRpbnVlLAp9Owp9KShzZWxmKTsK",
              "ok": true,
              "headers": [
                [
                  "content-type",
                  "application/javascript"
                ]
              ],
              "status": 200,
              "status_text": ""
            }
          },
          "base_uri": "https://localhost:8080/",
          "height": 73
        },
        "id": "BQzOEIc_cifD",
        "outputId": "9f29ec50-eb3a-46a2-a4c6-5494e818bffa"
      },
      "source": [
        "# import modules you need\n",
        "import pandas as pd\n",
        "import numpy as np\n",
        "\n",
        "from google.colab import files\n",
        "uploaded = files.upload()"
      ],
      "execution_count": 3,
      "outputs": [
        {
          "output_type": "display_data",
          "data": {
            "text/html": [
              "\n",
              "     <input type=\"file\" id=\"files-66a5a237-b08c-481e-9aa2-c9fc552b9a5a\" name=\"files[]\" multiple disabled\n",
              "        style=\"border:none\" />\n",
              "     <output id=\"result-66a5a237-b08c-481e-9aa2-c9fc552b9a5a\">\n",
              "      Upload widget is only available when the cell has been executed in the\n",
              "      current browser session. Please rerun this cell to enable.\n",
              "      </output>\n",
              "      <script src=\"/nbextensions/google.colab/files.js\"></script> "
            ],
            "text/plain": [
              "<IPython.core.display.HTML object>"
            ]
          },
          "metadata": {
            "tags": []
          }
        },
        {
          "output_type": "stream",
          "text": [
            "Saving WeatherData.csv to WeatherData (1).csv\n"
          ],
          "name": "stdout"
        }
      ]
    },
    {
      "cell_type": "markdown",
      "metadata": {
        "id": "NkC_T1qzcifE"
      },
      "source": [
        "# Part A: Introduction Data Frames\n",
        "- Data Pipeline: \n",
        "     - read/create data frame\n",
        "     - print first few rows\n",
        "     - slice data (if needed)\n",
        "     - write data frame to csv\n",
        "     \n",
        "- New Functions:\n",
        "    - DataFrame\n",
        "    - read_csv\n",
        "    - head\n",
        "    - shape\n",
        "    - write_csv"
      ]
    },
    {
      "cell_type": "markdown",
      "metadata": {
        "id": "hrVjjRCecifE"
      },
      "source": [
        "## Read in weather data"
      ]
    },
    {
      "cell_type": "code",
      "metadata": {
        "id": "YynqiVJWcifE"
      },
      "source": [
        "# 1 read in WeatherData.csv from csv, make sure your csv file is in the same directory as the ipynb file\n",
        "#         this makes it much easier to grade\n",
        "import io\n",
        "df = pd.read_csv('WeatherData.csv')"
      ],
      "execution_count": 28,
      "outputs": []
    },
    {
      "cell_type": "code",
      "metadata": {
        "colab": {
          "base_uri": "https://localhost:8080/",
          "height": 569
        },
        "id": "Zany1881cifE",
        "outputId": "d0a80db7-73ae-4d55-a511-f9c21dca6fbf"
      },
      "source": [
        "# 2 print first 5 rows of weather data\n",
        "df.head()\n"
      ],
      "execution_count": 29,
      "outputs": [
        {
          "output_type": "execute_result",
          "data": {
            "text/html": [
              "<div>\n",
              "<style scoped>\n",
              "    .dataframe tbody tr th:only-of-type {\n",
              "        vertical-align: middle;\n",
              "    }\n",
              "\n",
              "    .dataframe tbody tr th {\n",
              "        vertical-align: top;\n",
              "    }\n",
              "\n",
              "    .dataframe thead th {\n",
              "        text-align: right;\n",
              "    }\n",
              "</style>\n",
              "<table border=\"1\" class=\"dataframe\">\n",
              "  <thead>\n",
              "    <tr style=\"text-align: right;\">\n",
              "      <th></th>\n",
              "      <th>STATION</th>\n",
              "      <th>NAME</th>\n",
              "      <th>DATE</th>\n",
              "      <th>AWND</th>\n",
              "      <th>AWND_ATTRIBUTES</th>\n",
              "      <th>PRCP</th>\n",
              "      <th>PRCP_ATTRIBUTES</th>\n",
              "      <th>SNOW</th>\n",
              "      <th>SNOW_ATTRIBUTES</th>\n",
              "      <th>SNWD</th>\n",
              "      <th>SNWD_ATTRIBUTES</th>\n",
              "      <th>TAVG</th>\n",
              "      <th>TAVG_ATTRIBUTES</th>\n",
              "      <th>TMAX</th>\n",
              "      <th>TMAX_ATTRIBUTES</th>\n",
              "      <th>TMIN</th>\n",
              "      <th>TMIN_ATTRIBUTES</th>\n",
              "      <th>WDF2</th>\n",
              "      <th>WDF2_ATTRIBUTES</th>\n",
              "      <th>WDF5</th>\n",
              "      <th>WDF5_ATTRIBUTES</th>\n",
              "      <th>WESD</th>\n",
              "      <th>WESD_ATTRIBUTES</th>\n",
              "      <th>WSF2</th>\n",
              "      <th>WSF2_ATTRIBUTES</th>\n",
              "      <th>WSF5</th>\n",
              "      <th>WSF5_ATTRIBUTES</th>\n",
              "      <th>WT01</th>\n",
              "      <th>WT01_ATTRIBUTES</th>\n",
              "      <th>WT02</th>\n",
              "      <th>WT02_ATTRIBUTES</th>\n",
              "      <th>WT03</th>\n",
              "      <th>WT03_ATTRIBUTES</th>\n",
              "      <th>WT04</th>\n",
              "      <th>WT04_ATTRIBUTES</th>\n",
              "      <th>WT06</th>\n",
              "      <th>WT06_ATTRIBUTES</th>\n",
              "      <th>WT08</th>\n",
              "      <th>WT08_ATTRIBUTES</th>\n",
              "      <th>WT09</th>\n",
              "      <th>WT09_ATTRIBUTES</th>\n",
              "    </tr>\n",
              "  </thead>\n",
              "  <tbody>\n",
              "    <tr>\n",
              "      <th>0</th>\n",
              "      <td>USW00013743</td>\n",
              "      <td>WASHINGTON REAGAN NATIONAL AIRPORT, VA US</td>\n",
              "      <td>2017-01-01</td>\n",
              "      <td>4.25</td>\n",
              "      <td>,,W</td>\n",
              "      <td>0.00</td>\n",
              "      <td>,,W,2400</td>\n",
              "      <td>0.0</td>\n",
              "      <td>,,W,2400</td>\n",
              "      <td>0</td>\n",
              "      <td>,,W,2400</td>\n",
              "      <td>47</td>\n",
              "      <td>H,,S</td>\n",
              "      <td>56</td>\n",
              "      <td>,,W</td>\n",
              "      <td>37</td>\n",
              "      <td>,,W</td>\n",
              "      <td>210</td>\n",
              "      <td>,,W</td>\n",
              "      <td>210</td>\n",
              "      <td>,,W</td>\n",
              "      <td>NaN</td>\n",
              "      <td>NaN</td>\n",
              "      <td>16.1</td>\n",
              "      <td>,,W</td>\n",
              "      <td>19.9</td>\n",
              "      <td>,,W</td>\n",
              "      <td>NaN</td>\n",
              "      <td>NaN</td>\n",
              "      <td>NaN</td>\n",
              "      <td>NaN</td>\n",
              "      <td>NaN</td>\n",
              "      <td>NaN</td>\n",
              "      <td>NaN</td>\n",
              "      <td>NaN</td>\n",
              "      <td>NaN</td>\n",
              "      <td>NaN</td>\n",
              "      <td>NaN</td>\n",
              "      <td>NaN</td>\n",
              "      <td>NaN</td>\n",
              "      <td>NaN</td>\n",
              "    </tr>\n",
              "    <tr>\n",
              "      <th>1</th>\n",
              "      <td>USW00013743</td>\n",
              "      <td>WASHINGTON REAGAN NATIONAL AIRPORT, VA US</td>\n",
              "      <td>2017-01-02</td>\n",
              "      <td>7.83</td>\n",
              "      <td>,,W</td>\n",
              "      <td>0.35</td>\n",
              "      <td>,,W,2400</td>\n",
              "      <td>0.0</td>\n",
              "      <td>,,W,2400</td>\n",
              "      <td>0</td>\n",
              "      <td>,,W,2400</td>\n",
              "      <td>44</td>\n",
              "      <td>H,,S</td>\n",
              "      <td>46</td>\n",
              "      <td>,,W</td>\n",
              "      <td>41</td>\n",
              "      <td>,,W</td>\n",
              "      <td>30</td>\n",
              "      <td>,,W</td>\n",
              "      <td>40</td>\n",
              "      <td>,,W</td>\n",
              "      <td>NaN</td>\n",
              "      <td>NaN</td>\n",
              "      <td>14.1</td>\n",
              "      <td>,,W</td>\n",
              "      <td>17.0</td>\n",
              "      <td>,,W</td>\n",
              "      <td>1.0</td>\n",
              "      <td>,,W</td>\n",
              "      <td>NaN</td>\n",
              "      <td>NaN</td>\n",
              "      <td>NaN</td>\n",
              "      <td>NaN</td>\n",
              "      <td>NaN</td>\n",
              "      <td>NaN</td>\n",
              "      <td>NaN</td>\n",
              "      <td>NaN</td>\n",
              "      <td>NaN</td>\n",
              "      <td>NaN</td>\n",
              "      <td>NaN</td>\n",
              "      <td>NaN</td>\n",
              "    </tr>\n",
              "    <tr>\n",
              "      <th>2</th>\n",
              "      <td>USW00013743</td>\n",
              "      <td>WASHINGTON REAGAN NATIONAL AIRPORT, VA US</td>\n",
              "      <td>2017-01-03</td>\n",
              "      <td>5.82</td>\n",
              "      <td>,,W</td>\n",
              "      <td>0.86</td>\n",
              "      <td>,,W,2400</td>\n",
              "      <td>0.0</td>\n",
              "      <td>,,W,2400</td>\n",
              "      <td>0</td>\n",
              "      <td>,,W,2400</td>\n",
              "      <td>44</td>\n",
              "      <td>H,,S</td>\n",
              "      <td>46</td>\n",
              "      <td>,,W</td>\n",
              "      <td>43</td>\n",
              "      <td>,,W</td>\n",
              "      <td>40</td>\n",
              "      <td>,,W</td>\n",
              "      <td>40</td>\n",
              "      <td>,,W</td>\n",
              "      <td>NaN</td>\n",
              "      <td>NaN</td>\n",
              "      <td>13.0</td>\n",
              "      <td>,,W</td>\n",
              "      <td>16.1</td>\n",
              "      <td>,,W</td>\n",
              "      <td>1.0</td>\n",
              "      <td>,,W</td>\n",
              "      <td>NaN</td>\n",
              "      <td>NaN</td>\n",
              "      <td>NaN</td>\n",
              "      <td>NaN</td>\n",
              "      <td>NaN</td>\n",
              "      <td>NaN</td>\n",
              "      <td>NaN</td>\n",
              "      <td>NaN</td>\n",
              "      <td>NaN</td>\n",
              "      <td>NaN</td>\n",
              "      <td>NaN</td>\n",
              "      <td>NaN</td>\n",
              "    </tr>\n",
              "    <tr>\n",
              "      <th>3</th>\n",
              "      <td>USW00013743</td>\n",
              "      <td>WASHINGTON REAGAN NATIONAL AIRPORT, VA US</td>\n",
              "      <td>2017-01-04</td>\n",
              "      <td>9.84</td>\n",
              "      <td>,,W</td>\n",
              "      <td>0.00</td>\n",
              "      <td>T,,W,2400</td>\n",
              "      <td>0.0</td>\n",
              "      <td>,,W,2400</td>\n",
              "      <td>0</td>\n",
              "      <td>,,W,2400</td>\n",
              "      <td>48</td>\n",
              "      <td>H,,S</td>\n",
              "      <td>57</td>\n",
              "      <td>,,W</td>\n",
              "      <td>35</td>\n",
              "      <td>,,W</td>\n",
              "      <td>290</td>\n",
              "      <td>,,W</td>\n",
              "      <td>290</td>\n",
              "      <td>,,W</td>\n",
              "      <td>NaN</td>\n",
              "      <td>NaN</td>\n",
              "      <td>23.9</td>\n",
              "      <td>,,W</td>\n",
              "      <td>32.0</td>\n",
              "      <td>,,W</td>\n",
              "      <td>1.0</td>\n",
              "      <td>,,W</td>\n",
              "      <td>1.0</td>\n",
              "      <td>,,W</td>\n",
              "      <td>NaN</td>\n",
              "      <td>NaN</td>\n",
              "      <td>NaN</td>\n",
              "      <td>NaN</td>\n",
              "      <td>NaN</td>\n",
              "      <td>NaN</td>\n",
              "      <td>NaN</td>\n",
              "      <td>NaN</td>\n",
              "      <td>NaN</td>\n",
              "      <td>NaN</td>\n",
              "    </tr>\n",
              "    <tr>\n",
              "      <th>4</th>\n",
              "      <td>USW00013743</td>\n",
              "      <td>WASHINGTON REAGAN NATIONAL AIRPORT, VA US</td>\n",
              "      <td>2017-01-05</td>\n",
              "      <td>6.49</td>\n",
              "      <td>,,W</td>\n",
              "      <td>0.00</td>\n",
              "      <td>T,,W,2400</td>\n",
              "      <td>0.0</td>\n",
              "      <td>T,,W,2400</td>\n",
              "      <td>0</td>\n",
              "      <td>,,W,2400</td>\n",
              "      <td>35</td>\n",
              "      <td>H,,S</td>\n",
              "      <td>37</td>\n",
              "      <td>,,W</td>\n",
              "      <td>30</td>\n",
              "      <td>,,W</td>\n",
              "      <td>330</td>\n",
              "      <td>,,W</td>\n",
              "      <td>220</td>\n",
              "      <td>,,W</td>\n",
              "      <td>NaN</td>\n",
              "      <td>NaN</td>\n",
              "      <td>13.0</td>\n",
              "      <td>,,W</td>\n",
              "      <td>19.0</td>\n",
              "      <td>,,W</td>\n",
              "      <td>NaN</td>\n",
              "      <td>NaN</td>\n",
              "      <td>NaN</td>\n",
              "      <td>NaN</td>\n",
              "      <td>NaN</td>\n",
              "      <td>NaN</td>\n",
              "      <td>NaN</td>\n",
              "      <td>NaN</td>\n",
              "      <td>NaN</td>\n",
              "      <td>NaN</td>\n",
              "      <td>NaN</td>\n",
              "      <td>NaN</td>\n",
              "      <td>NaN</td>\n",
              "      <td>NaN</td>\n",
              "    </tr>\n",
              "  </tbody>\n",
              "</table>\n",
              "</div>"
            ],
            "text/plain": [
              "       STATION  ... WT09_ATTRIBUTES\n",
              "0  USW00013743  ...             NaN\n",
              "1  USW00013743  ...             NaN\n",
              "2  USW00013743  ...             NaN\n",
              "3  USW00013743  ...             NaN\n",
              "4  USW00013743  ...             NaN\n",
              "\n",
              "[5 rows x 41 columns]"
            ]
          },
          "metadata": {
            "tags": []
          },
          "execution_count": 29
        }
      ]
    },
    {
      "cell_type": "code",
      "metadata": {
        "colab": {
          "base_uri": "https://localhost:8080/"
        },
        "id": "mmX3Jj8RcifF",
        "outputId": "91266ec2-8a79-400b-bc30-e4db5bc3962d"
      },
      "source": [
        "# 3 print column and row dimensions of the weather data\n",
        "df.shape"
      ],
      "execution_count": 30,
      "outputs": [
        {
          "output_type": "execute_result",
          "data": {
            "text/plain": [
              "(90, 41)"
            ]
          },
          "metadata": {
            "tags": []
          },
          "execution_count": 30
        }
      ]
    },
    {
      "cell_type": "code",
      "metadata": {
        "id": "wSJibhgPcifF"
      },
      "source": [
        "# 4 slice data - save only the date (DATE) and the amount of precipitation (PRCP) to a new dataframe\n",
        "date_prcp = df[[\"DATE\", \"PRCP\"]]"
      ],
      "execution_count": 31,
      "outputs": []
    },
    {
      "cell_type": "code",
      "metadata": {
        "id": "GuxJRA9zcifF"
      },
      "source": [
        "# 5 write dataframe to csv file names lab3a.csv\n",
        "df.to_csv(\"lab3a.csv\")"
      ],
      "execution_count": 32,
      "outputs": []
    },
    {
      "cell_type": "markdown",
      "metadata": {
        "id": "W6WQQTA0cifF"
      },
      "source": [
        "## Read in trip data"
      ]
    },
    {
      "cell_type": "code",
      "metadata": {
        "id": "nqAbjmG_cifG"
      },
      "source": [
        "# 6 read in tripdata.csv, make sure your csv file is in the same directory as the ipynb file\n",
        "#         this makes it much easier to grade.\n",
        "import io\n",
        "dft = pd.read_csv('TripData.csv')"
      ],
      "execution_count": 33,
      "outputs": []
    },
    {
      "cell_type": "code",
      "metadata": {
        "colab": {
          "base_uri": "https://localhost:8080/",
          "height": 402
        },
        "id": "VBEuTJutcifG",
        "outputId": "4ccf92ca-23ba-416d-aa61-03501f9934a4"
      },
      "source": [
        "# 7 print last 7 rows of trip data\n",
        "dft.tail(7)"
      ],
      "execution_count": 34,
      "outputs": [
        {
          "output_type": "execute_result",
          "data": {
            "text/html": [
              "<div>\n",
              "<style scoped>\n",
              "    .dataframe tbody tr th:only-of-type {\n",
              "        vertical-align: middle;\n",
              "    }\n",
              "\n",
              "    .dataframe tbody tr th {\n",
              "        vertical-align: top;\n",
              "    }\n",
              "\n",
              "    .dataframe thead th {\n",
              "        text-align: right;\n",
              "    }\n",
              "</style>\n",
              "<table border=\"1\" class=\"dataframe\">\n",
              "  <thead>\n",
              "    <tr style=\"text-align: right;\">\n",
              "      <th></th>\n",
              "      <th>Duration</th>\n",
              "      <th>Start date</th>\n",
              "      <th>End date</th>\n",
              "      <th>Start station number</th>\n",
              "      <th>Start station</th>\n",
              "      <th>End station number</th>\n",
              "      <th>End station</th>\n",
              "      <th>Bike number</th>\n",
              "      <th>Member Type</th>\n",
              "    </tr>\n",
              "  </thead>\n",
              "  <tbody>\n",
              "    <tr>\n",
              "      <th>6076</th>\n",
              "      <td>366854</td>\n",
              "      <td>3/30/2017 18:18</td>\n",
              "      <td>3/30/2017 18:24</td>\n",
              "      <td>31613</td>\n",
              "      <td>Eastern Market Metro / Pennsylvania Ave &amp; 7th ...</td>\n",
              "      <td>31626</td>\n",
              "      <td>15th St &amp; Massachusetts Ave SE</td>\n",
              "      <td>W23162</td>\n",
              "      <td>Registered</td>\n",
              "    </tr>\n",
              "    <tr>\n",
              "      <th>6077</th>\n",
              "      <td>983585</td>\n",
              "      <td>3/30/2017 18:18</td>\n",
              "      <td>3/30/2017 18:35</td>\n",
              "      <td>31069</td>\n",
              "      <td>Pershing &amp; N George Mason Dr</td>\n",
              "      <td>31016</td>\n",
              "      <td>Clarendon Blvd &amp; Pierce St</td>\n",
              "      <td>W22827</td>\n",
              "      <td>Registered</td>\n",
              "    </tr>\n",
              "    <tr>\n",
              "      <th>6078</th>\n",
              "      <td>225742</td>\n",
              "      <td>3/30/2017 18:18</td>\n",
              "      <td>3/30/2017 18:22</td>\n",
              "      <td>31200</td>\n",
              "      <td>Massachusetts Ave &amp; Dupont Circle NW</td>\n",
              "      <td>31278</td>\n",
              "      <td>18th &amp; R St NW</td>\n",
              "      <td>W00697</td>\n",
              "      <td>Registered</td>\n",
              "    </tr>\n",
              "    <tr>\n",
              "      <th>6079</th>\n",
              "      <td>425340</td>\n",
              "      <td>3/30/2017 18:18</td>\n",
              "      <td>3/30/2017 18:25</td>\n",
              "      <td>31629</td>\n",
              "      <td>8th &amp; East Capitol St NE</td>\n",
              "      <td>31643</td>\n",
              "      <td>1st &amp; D St SE</td>\n",
              "      <td>W21000</td>\n",
              "      <td>Registered</td>\n",
              "    </tr>\n",
              "    <tr>\n",
              "      <th>6080</th>\n",
              "      <td>337433</td>\n",
              "      <td>3/30/2017 18:18</td>\n",
              "      <td>3/30/2017 18:24</td>\n",
              "      <td>31200</td>\n",
              "      <td>Massachusetts Ave &amp; Dupont Circle NW</td>\n",
              "      <td>31201</td>\n",
              "      <td>15th &amp; P St NW</td>\n",
              "      <td>W23220</td>\n",
              "      <td>Registered</td>\n",
              "    </tr>\n",
              "    <tr>\n",
              "      <th>6081</th>\n",
              "      <td>485312</td>\n",
              "      <td>3/30/2017 18:18</td>\n",
              "      <td>3/30/2017 18:27</td>\n",
              "      <td>31200</td>\n",
              "      <td>Massachusetts Ave &amp; Dupont Circle NW</td>\n",
              "      <td>31121</td>\n",
              "      <td>Calvert St &amp; Woodley Pl NW</td>\n",
              "      <td>W20709</td>\n",
              "      <td>Registered</td>\n",
              "    </tr>\n",
              "    <tr>\n",
              "      <th>6082</th>\n",
              "      <td>488138</td>\n",
              "      <td>3/30/2017 18:18</td>\n",
              "      <td>3/30/2017 18:27</td>\n",
              "      <td>31623</td>\n",
              "      <td>Columbus Circle / Union Station</td>\n",
              "      <td>31619</td>\n",
              "      <td>Lincoln</td>\n",
              "      <td>NaN</td>\n",
              "      <td>NaN</td>\n",
              "    </tr>\n",
              "  </tbody>\n",
              "</table>\n",
              "</div>"
            ],
            "text/plain": [
              "      Duration       Start date  ... Bike number  Member Type\n",
              "6076    366854  3/30/2017 18:18  ...      W23162   Registered\n",
              "6077    983585  3/30/2017 18:18  ...      W22827   Registered\n",
              "6078    225742  3/30/2017 18:18  ...      W00697   Registered\n",
              "6079    425340  3/30/2017 18:18  ...      W21000   Registered\n",
              "6080    337433  3/30/2017 18:18  ...      W23220   Registered\n",
              "6081    485312  3/30/2017 18:18  ...      W20709   Registered\n",
              "6082    488138  3/30/2017 18:18  ...         NaN          NaN\n",
              "\n",
              "[7 rows x 9 columns]"
            ]
          },
          "metadata": {
            "tags": []
          },
          "execution_count": 34
        }
      ]
    },
    {
      "cell_type": "code",
      "metadata": {
        "colab": {
          "base_uri": "https://localhost:8080/"
        },
        "id": "362QCPkscifG",
        "outputId": "bb6c8a34-e33b-4945-9fb7-c0fc557b7928"
      },
      "source": [
        "# 8 print dimensions of trip data\n",
        "dft.shape"
      ],
      "execution_count": 35,
      "outputs": [
        {
          "output_type": "execute_result",
          "data": {
            "text/plain": [
              "(6083, 9)"
            ]
          },
          "metadata": {
            "tags": []
          },
          "execution_count": 35
        }
      ]
    },
    {
      "cell_type": "code",
      "metadata": {
        "id": "KbjxNhj_cifG"
      },
      "source": [
        "# 9 slice data - save only the start date (Start date) and the duration (Duration) into a new dataframe\n",
        "st_duration = dft[[\"Start date\", \"Duration\"]]"
      ],
      "execution_count": 36,
      "outputs": []
    },
    {
      "cell_type": "code",
      "metadata": {
        "id": "IqbjFQXdcifG"
      },
      "source": [
        "# 10 write the dataframe to a new file lab3b.csv\n",
        "dft.to_csv(\"lab3b.csv\")"
      ],
      "execution_count": 37,
      "outputs": []
    },
    {
      "cell_type": "markdown",
      "metadata": {
        "id": "FPwukB50cifH"
      },
      "source": [
        "## Create day of the week data frame"
      ]
    },
    {
      "cell_type": "code",
      "metadata": {
        "id": "KYQ5RlrscifH"
      },
      "source": [
        "# 11 create a dictionary to store day of the week data for each of the first 7 days of 2017\n",
        "# dates should be from 2017-01-01 to 2017-01-07\n",
        "# days of the week should correspond to each day. (Hint January 1, 2017 was a Sunday)\n",
        "# the dictionary should be of the format:\n",
        "# dict = {'colname1':['list','of','values','in','order'],'colname2':['list','of','values','same','order']}\n",
        "dict = {'date1':['2017-01-01','2017-01-02','2017-01-03','2017-01-04','2017-01-05', '2017-01-06', '2017-01-07'],\n",
        "        'dayofweek2':['Sunday','Monday','Tuesday','Wednesday','Thursday', 'Friday', 'Saturday']}"
      ],
      "execution_count": 38,
      "outputs": []
    },
    {
      "cell_type": "code",
      "metadata": {
        "id": "w9c1LJUtcifH"
      },
      "source": [
        "# 12 turn this dictionary into a data frame\n",
        "dow = pd.DataFrame(dict)"
      ],
      "execution_count": 39,
      "outputs": []
    },
    {
      "cell_type": "code",
      "metadata": {
        "colab": {
          "base_uri": "https://localhost:8080/",
          "height": 202
        },
        "id": "gshaJUq7cifH",
        "outputId": "e14455b0-3f87-4399-f925-78eac3d60a03"
      },
      "source": [
        "# 13 print first 5 rows\n",
        "dow.head()"
      ],
      "execution_count": 40,
      "outputs": [
        {
          "output_type": "execute_result",
          "data": {
            "text/html": [
              "<div>\n",
              "<style scoped>\n",
              "    .dataframe tbody tr th:only-of-type {\n",
              "        vertical-align: middle;\n",
              "    }\n",
              "\n",
              "    .dataframe tbody tr th {\n",
              "        vertical-align: top;\n",
              "    }\n",
              "\n",
              "    .dataframe thead th {\n",
              "        text-align: right;\n",
              "    }\n",
              "</style>\n",
              "<table border=\"1\" class=\"dataframe\">\n",
              "  <thead>\n",
              "    <tr style=\"text-align: right;\">\n",
              "      <th></th>\n",
              "      <th>date1</th>\n",
              "      <th>dayofweek2</th>\n",
              "    </tr>\n",
              "  </thead>\n",
              "  <tbody>\n",
              "    <tr>\n",
              "      <th>0</th>\n",
              "      <td>2017-01-01</td>\n",
              "      <td>Sunday</td>\n",
              "    </tr>\n",
              "    <tr>\n",
              "      <th>1</th>\n",
              "      <td>2017-01-02</td>\n",
              "      <td>Monday</td>\n",
              "    </tr>\n",
              "    <tr>\n",
              "      <th>2</th>\n",
              "      <td>2017-01-03</td>\n",
              "      <td>Tuesday</td>\n",
              "    </tr>\n",
              "    <tr>\n",
              "      <th>3</th>\n",
              "      <td>2017-01-04</td>\n",
              "      <td>Wednesday</td>\n",
              "    </tr>\n",
              "    <tr>\n",
              "      <th>4</th>\n",
              "      <td>2017-01-05</td>\n",
              "      <td>Thursday</td>\n",
              "    </tr>\n",
              "  </tbody>\n",
              "</table>\n",
              "</div>"
            ],
            "text/plain": [
              "        date1 dayofweek2\n",
              "0  2017-01-01     Sunday\n",
              "1  2017-01-02     Monday\n",
              "2  2017-01-03    Tuesday\n",
              "3  2017-01-04  Wednesday\n",
              "4  2017-01-05   Thursday"
            ]
          },
          "metadata": {
            "tags": []
          },
          "execution_count": 40
        }
      ]
    },
    {
      "cell_type": "code",
      "metadata": {
        "colab": {
          "base_uri": "https://localhost:8080/"
        },
        "id": "oDzmM4g3cifH",
        "outputId": "f35654b2-e1d7-4822-b481-26b59fd378c8"
      },
      "source": [
        "# 14 print the dimensions/shape\n",
        "dow.shape"
      ],
      "execution_count": 41,
      "outputs": [
        {
          "output_type": "execute_result",
          "data": {
            "text/plain": [
              "(7, 2)"
            ]
          },
          "metadata": {
            "tags": []
          },
          "execution_count": 41
        }
      ]
    },
    {
      "cell_type": "code",
      "metadata": {
        "id": "K5xP_EKacifH"
      },
      "source": [
        "# 15 write this data to lab3c.csv and ensure to set the encoding to 'utf-8' and set the index paramter to 'False' \n",
        "#           in the call to create the csv file\n",
        "dow.to_csv(\"lab3c.csv\")"
      ],
      "execution_count": 43,
      "outputs": []
    },
    {
      "cell_type": "markdown",
      "metadata": {
        "id": "0n0NTcSocifI"
      },
      "source": [
        "# Part B: Summarizing Data \n",
        "- Data Pipeline: \n",
        "     - count missing values per column\n",
        "     - get frequency counts for key categorical variables\n",
        "     - get descriptive statistics for numeric variables\n",
        "     - calculate any other summary functions\n",
        "     \n",
        "- New Functions:\n",
        "    - count\n",
        "    - value_counts\n",
        "    - describe\n",
        "    - sum\n",
        "    - mode\n",
        "    "
      ]
    },
    {
      "cell_type": "markdown",
      "metadata": {
        "id": "XB3Bw79TcifI"
      },
      "source": [
        "## Summarize weather data"
      ]
    },
    {
      "cell_type": "code",
      "metadata": {
        "colab": {
          "base_uri": "https://localhost:8080/"
        },
        "id": "udUeW0arcifI",
        "outputId": "194b4ea4-48aa-4db5-a478-017eff9edf7b"
      },
      "source": [
        "# 16 From the weather dataframe from above, get a count of number of non-missing values for weather columns\n",
        "df.count()"
      ],
      "execution_count": 44,
      "outputs": [
        {
          "output_type": "execute_result",
          "data": {
            "text/plain": [
              "STATION            90\n",
              "NAME               90\n",
              "DATE               90\n",
              "AWND               90\n",
              "AWND_ATTRIBUTES    90\n",
              "PRCP               90\n",
              "PRCP_ATTRIBUTES    90\n",
              "SNOW               90\n",
              "SNOW_ATTRIBUTES    90\n",
              "SNWD               90\n",
              "SNWD_ATTRIBUTES    90\n",
              "TAVG               90\n",
              "TAVG_ATTRIBUTES    90\n",
              "TMAX               90\n",
              "TMAX_ATTRIBUTES    90\n",
              "TMIN               90\n",
              "TMIN_ATTRIBUTES    90\n",
              "WDF2               90\n",
              "WDF2_ATTRIBUTES    90\n",
              "WDF5               90\n",
              "WDF5_ATTRIBUTES    90\n",
              "WESD                0\n",
              "WESD_ATTRIBUTES     0\n",
              "WSF2               90\n",
              "WSF2_ATTRIBUTES    90\n",
              "WSF5               90\n",
              "WSF5_ATTRIBUTES    90\n",
              "WT01               27\n",
              "WT01_ATTRIBUTES    27\n",
              "WT02                6\n",
              "WT02_ATTRIBUTES     6\n",
              "WT03                2\n",
              "WT03_ATTRIBUTES     2\n",
              "WT04                3\n",
              "WT04_ATTRIBUTES     3\n",
              "WT06                2\n",
              "WT06_ATTRIBUTES     2\n",
              "WT08                5\n",
              "WT08_ATTRIBUTES     5\n",
              "WT09                0\n",
              "WT09_ATTRIBUTES     0\n",
              "dtype: int64"
            ]
          },
          "metadata": {
            "tags": []
          },
          "execution_count": 44
        }
      ]
    },
    {
      "cell_type": "code",
      "metadata": {
        "colab": {
          "base_uri": "https://localhost:8080/"
        },
        "id": "x0_qcSrncifI",
        "outputId": "f13e0624-d636-4f00-e04e-2d18f527947f"
      },
      "source": [
        "# 17 get the frequency distributions for name (NAME)\n",
        "df[\"NAME\"].value_counts()"
      ],
      "execution_count": 48,
      "outputs": [
        {
          "output_type": "execute_result",
          "data": {
            "text/plain": [
              "WASHINGTON REAGAN NATIONAL AIRPORT, VA US    90\n",
              "Name: NAME, dtype: int64"
            ]
          },
          "metadata": {
            "tags": []
          },
          "execution_count": 48
        }
      ]
    },
    {
      "cell_type": "code",
      "metadata": {
        "colab": {
          "base_uri": "https://localhost:8080/"
        },
        "id": "Ku_HzTnPcifI",
        "outputId": "78916645-71f7-4b22-f494-35af03d036b6"
      },
      "source": [
        "# 18 get descriptive statistics for preciptation\n",
        "df[\"PRCP\"].describe()"
      ],
      "execution_count": 62,
      "outputs": [
        {
          "output_type": "execute_result",
          "data": {
            "text/plain": [
              "count    90.000000\n",
              "mean      0.073556\n",
              "std       0.190046\n",
              "min       0.000000\n",
              "25%       0.000000\n",
              "50%       0.000000\n",
              "75%       0.020000\n",
              "max       0.960000\n",
              "Name: PRCP, dtype: float64"
            ]
          },
          "metadata": {
            "tags": []
          },
          "execution_count": 62
        }
      ]
    },
    {
      "cell_type": "code",
      "metadata": {
        "colab": {
          "base_uri": "https://localhost:8080/"
        },
        "id": "Rs31X5KJcifI",
        "outputId": "14a37d71-53ea-4789-d0d7-d47cff5bc0bc"
      },
      "source": [
        "# 19 get the sum for precipitation (PRCP)\n",
        "df[\"PRCP\"].sum()"
      ],
      "execution_count": 56,
      "outputs": [
        {
          "output_type": "execute_result",
          "data": {
            "text/plain": [
              "6.62"
            ]
          },
          "metadata": {
            "tags": []
          },
          "execution_count": 56
        }
      ]
    },
    {
      "cell_type": "markdown",
      "metadata": {
        "id": "DTf1-DEOcifI"
      },
      "source": [
        "## Summarize trip data"
      ]
    },
    {
      "cell_type": "code",
      "metadata": {
        "colab": {
          "base_uri": "https://localhost:8080/"
        },
        "id": "8uMkjaPNcifJ",
        "outputId": "e714911e-8cb3-45e3-e541-e41ba5a9222e"
      },
      "source": [
        "# 20 get a count of number of non-missing values for trip data\n",
        "dft.count()"
      ],
      "execution_count": 57,
      "outputs": [
        {
          "output_type": "execute_result",
          "data": {
            "text/plain": [
              "Duration                6083\n",
              "Start date              6083\n",
              "End date                6083\n",
              "Start station number    6083\n",
              "Start station           6083\n",
              "End station number      6083\n",
              "End station             6083\n",
              "Bike number             6082\n",
              "Member Type             6082\n",
              "dtype: int64"
            ]
          },
          "metadata": {
            "tags": []
          },
          "execution_count": 57
        }
      ]
    },
    {
      "cell_type": "code",
      "metadata": {
        "colab": {
          "base_uri": "https://localhost:8080/"
        },
        "id": "TrBKrHhjcifJ",
        "outputId": "063a561a-4799-47e8-9b71-51e6a0b2a4e7"
      },
      "source": [
        "# 21 get frequency distribution for Start station\n",
        "dft[\"Start date\"].value_counts()"
      ],
      "execution_count": 58,
      "outputs": [
        {
          "output_type": "execute_result",
          "data": {
            "text/plain": [
              "3/30/2017 18:24    26\n",
              "3/30/2017 18:45    24\n",
              "3/30/2017 18:38    23\n",
              "3/30/2017 18:18    22\n",
              "3/30/2017 18:39    22\n",
              "                   ..\n",
              "3/31/2017 7:22      1\n",
              "3/31/2017 2:16      1\n",
              "3/31/2017 21:16     1\n",
              "3/31/2017 7:47      1\n",
              "3/31/2017 20:24     1\n",
              "Name: Start date, Length: 1289, dtype: int64"
            ]
          },
          "metadata": {
            "tags": []
          },
          "execution_count": 58
        }
      ]
    },
    {
      "cell_type": "code",
      "metadata": {
        "colab": {
          "base_uri": "https://localhost:8080/",
          "height": 421
        },
        "id": "Dd6CB9WccifJ",
        "outputId": "89a777fe-0d7a-4bb6-caf9-5db176af35ff"
      },
      "source": [
        "# 22 get descriptive statistics for all columns\n",
        "dft.describe(include=\"all\")"
      ],
      "execution_count": 60,
      "outputs": [
        {
          "output_type": "execute_result",
          "data": {
            "text/html": [
              "<div>\n",
              "<style scoped>\n",
              "    .dataframe tbody tr th:only-of-type {\n",
              "        vertical-align: middle;\n",
              "    }\n",
              "\n",
              "    .dataframe tbody tr th {\n",
              "        vertical-align: top;\n",
              "    }\n",
              "\n",
              "    .dataframe thead th {\n",
              "        text-align: right;\n",
              "    }\n",
              "</style>\n",
              "<table border=\"1\" class=\"dataframe\">\n",
              "  <thead>\n",
              "    <tr style=\"text-align: right;\">\n",
              "      <th></th>\n",
              "      <th>Duration</th>\n",
              "      <th>Start date</th>\n",
              "      <th>End date</th>\n",
              "      <th>Start station number</th>\n",
              "      <th>Start station</th>\n",
              "      <th>End station number</th>\n",
              "      <th>End station</th>\n",
              "      <th>Bike number</th>\n",
              "      <th>Member Type</th>\n",
              "    </tr>\n",
              "  </thead>\n",
              "  <tbody>\n",
              "    <tr>\n",
              "      <th>count</th>\n",
              "      <td>6.083000e+03</td>\n",
              "      <td>6083</td>\n",
              "      <td>6083</td>\n",
              "      <td>6083.000000</td>\n",
              "      <td>6083</td>\n",
              "      <td>6083.000000</td>\n",
              "      <td>6083</td>\n",
              "      <td>6082</td>\n",
              "      <td>6082</td>\n",
              "    </tr>\n",
              "    <tr>\n",
              "      <th>unique</th>\n",
              "      <td>NaN</td>\n",
              "      <td>1289</td>\n",
              "      <td>1330</td>\n",
              "      <td>NaN</td>\n",
              "      <td>370</td>\n",
              "      <td>NaN</td>\n",
              "      <td>387</td>\n",
              "      <td>1931</td>\n",
              "      <td>2</td>\n",
              "    </tr>\n",
              "    <tr>\n",
              "      <th>top</th>\n",
              "      <td>NaN</td>\n",
              "      <td>3/30/2017 18:24</td>\n",
              "      <td>3/30/2017 19:00</td>\n",
              "      <td>NaN</td>\n",
              "      <td>Columbus Circle / Union Station</td>\n",
              "      <td>NaN</td>\n",
              "      <td>Columbus Circle / Union Station</td>\n",
              "      <td>W01307</td>\n",
              "      <td>Registered</td>\n",
              "    </tr>\n",
              "    <tr>\n",
              "      <th>freq</th>\n",
              "      <td>NaN</td>\n",
              "      <td>26</td>\n",
              "      <td>25</td>\n",
              "      <td>NaN</td>\n",
              "      <td>126</td>\n",
              "      <td>NaN</td>\n",
              "      <td>136</td>\n",
              "      <td>14</td>\n",
              "      <td>5316</td>\n",
              "    </tr>\n",
              "    <tr>\n",
              "      <th>mean</th>\n",
              "      <td>8.487410e+05</td>\n",
              "      <td>NaN</td>\n",
              "      <td>NaN</td>\n",
              "      <td>31310.227191</td>\n",
              "      <td>NaN</td>\n",
              "      <td>31326.186092</td>\n",
              "      <td>NaN</td>\n",
              "      <td>NaN</td>\n",
              "      <td>NaN</td>\n",
              "    </tr>\n",
              "    <tr>\n",
              "      <th>std</th>\n",
              "      <td>1.882986e+06</td>\n",
              "      <td>NaN</td>\n",
              "      <td>NaN</td>\n",
              "      <td>212.950461</td>\n",
              "      <td>NaN</td>\n",
              "      <td>225.200937</td>\n",
              "      <td>NaN</td>\n",
              "      <td>NaN</td>\n",
              "      <td>NaN</td>\n",
              "    </tr>\n",
              "    <tr>\n",
              "      <th>min</th>\n",
              "      <td>6.249300e+04</td>\n",
              "      <td>NaN</td>\n",
              "      <td>NaN</td>\n",
              "      <td>31001.000000</td>\n",
              "      <td>NaN</td>\n",
              "      <td>31000.000000</td>\n",
              "      <td>NaN</td>\n",
              "      <td>NaN</td>\n",
              "      <td>NaN</td>\n",
              "    </tr>\n",
              "    <tr>\n",
              "      <th>25%</th>\n",
              "      <td>3.418500e+05</td>\n",
              "      <td>NaN</td>\n",
              "      <td>NaN</td>\n",
              "      <td>31202.000000</td>\n",
              "      <td>NaN</td>\n",
              "      <td>31201.000000</td>\n",
              "      <td>NaN</td>\n",
              "      <td>NaN</td>\n",
              "      <td>NaN</td>\n",
              "    </tr>\n",
              "    <tr>\n",
              "      <th>50%</th>\n",
              "      <td>5.655410e+05</td>\n",
              "      <td>NaN</td>\n",
              "      <td>NaN</td>\n",
              "      <td>31248.000000</td>\n",
              "      <td>NaN</td>\n",
              "      <td>31252.000000</td>\n",
              "      <td>NaN</td>\n",
              "      <td>NaN</td>\n",
              "      <td>NaN</td>\n",
              "    </tr>\n",
              "    <tr>\n",
              "      <th>75%</th>\n",
              "      <td>9.248295e+05</td>\n",
              "      <td>NaN</td>\n",
              "      <td>NaN</td>\n",
              "      <td>31404.500000</td>\n",
              "      <td>NaN</td>\n",
              "      <td>31518.000000</td>\n",
              "      <td>NaN</td>\n",
              "      <td>NaN</td>\n",
              "      <td>NaN</td>\n",
              "    </tr>\n",
              "    <tr>\n",
              "      <th>max</th>\n",
              "      <td>8.299059e+07</td>\n",
              "      <td>NaN</td>\n",
              "      <td>NaN</td>\n",
              "      <td>32215.000000</td>\n",
              "      <td>NaN</td>\n",
              "      <td>32218.000000</td>\n",
              "      <td>NaN</td>\n",
              "      <td>NaN</td>\n",
              "      <td>NaN</td>\n",
              "    </tr>\n",
              "  </tbody>\n",
              "</table>\n",
              "</div>"
            ],
            "text/plain": [
              "            Duration       Start date  ... Bike number  Member Type\n",
              "count   6.083000e+03             6083  ...        6082         6082\n",
              "unique           NaN             1289  ...        1931            2\n",
              "top              NaN  3/30/2017 18:24  ...      W01307   Registered\n",
              "freq             NaN               26  ...          14         5316\n",
              "mean    8.487410e+05              NaN  ...         NaN          NaN\n",
              "std     1.882986e+06              NaN  ...         NaN          NaN\n",
              "min     6.249300e+04              NaN  ...         NaN          NaN\n",
              "25%     3.418500e+05              NaN  ...         NaN          NaN\n",
              "50%     5.655410e+05              NaN  ...         NaN          NaN\n",
              "75%     9.248295e+05              NaN  ...         NaN          NaN\n",
              "max     8.299059e+07              NaN  ...         NaN          NaN\n",
              "\n",
              "[11 rows x 9 columns]"
            ]
          },
          "metadata": {
            "tags": []
          },
          "execution_count": 60
        }
      ]
    },
    {
      "cell_type": "code",
      "metadata": {
        "colab": {
          "base_uri": "https://localhost:8080/"
        },
        "id": "e5RJBty5cifJ",
        "outputId": "1fb7d48d-03c3-4095-81ed-e08ecdd22cac"
      },
      "source": [
        "# 23 get mode of end station\n",
        "dft[\"End station\"].mode()"
      ],
      "execution_count": 63,
      "outputs": [
        {
          "output_type": "execute_result",
          "data": {
            "text/plain": [
              "0    Columbus Circle / Union Station\n",
              "dtype: object"
            ]
          },
          "metadata": {
            "tags": []
          },
          "execution_count": 63
        }
      ]
    },
    {
      "cell_type": "markdown",
      "metadata": {
        "id": "RzjgdCHncifJ"
      },
      "source": [
        "Questions to think about\n",
        "- Are there any missing values for precipitation? For start station? How do you know? \n",
        "- Does the mean of Start station number make any sense?\n"
      ]
    }
  ]
}