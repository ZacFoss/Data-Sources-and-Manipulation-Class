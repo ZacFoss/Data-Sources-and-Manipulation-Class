{
 "cells": [
  {
   "cell_type": "markdown",
   "metadata": {
    "collapsed": true
   },
   "source": [
    "# Lab 8 Web Scraping\n",
    "\n",
    "Skills\n",
    "- download HTML\n",
    "- parse HTML\n",
    "\n",
    "New Modules\n",
    "- requests\n",
    "- os\n",
    "- beautifulsoup\n",
    "\n",
    "Special Note\n",
    "For those of you running Python 3.6 with OS X you may need to install certificates. Here is an explanation (https://stackoverflow.com/questions/27835619/urllib-and-ssl-certificate-verify-failed-error). Here are the commands:\n",
    "> pip install certifi\n",
    "\n",
    "> /Applications/Python\\ 3.6/Install\\ Certificates.command"
   ]
  },
  {
   "cell_type": "code",
   "execution_count": 1,
   "metadata": {},
   "outputs": [],
   "source": [
    "# import modules\n",
    "import pandas as pd\n",
    "import numpy as np\n",
    "from bs4 import BeautifulSoup\n",
    "import re\n",
    "import requests\n",
    "\n",
    "import matplotlib.pyplot as plt\n",
    "%matplotlib inline\n"
   ]
  },
  {
   "cell_type": "markdown",
   "metadata": {},
   "source": [
    "# Part A: Downloading HTML"
   ]
  },
  {
   "cell_type": "markdown",
   "metadata": {},
   "source": [
    "## Downloading Wikipedia Page UMD"
   ]
  },
  {
   "cell_type": "code",
   "execution_count": 5,
   "metadata": {},
   "outputs": [
    {
     "output_type": "stream",
     "name": "stdout",
     "text": [
      "<Response [200]>\n"
     ]
    }
   ],
   "source": [
    "# Using the requests library, get the wikipedia page for UMD\n",
    "# HINT: https://en.wikipedia.org/wiki/University_of_Maryland,_College_Park\n",
    "URL = 'https://en.wikipedia.org/wiki/University_of_Maryland,_College_Park'\n",
    "page = requests.get(URL)\n",
    "# print html response object\n",
    "print(page)"
   ]
  },
  {
   "cell_type": "code",
   "execution_count": 6,
   "metadata": {},
   "outputs": [
    {
     "output_type": "execute_result",
     "data": {
      "text/plain": [
       "200"
      ]
     },
     "metadata": {},
     "execution_count": 6
    }
   ],
   "source": [
    "# print response code only\n",
    "page.status_code"
   ]
  },
  {
   "cell_type": "code",
   "execution_count": 8,
   "metadata": {},
   "outputs": [
    {
     "output_type": "stream",
     "name": "stdout",
     "text": [
      "{'Date': 'Thu, 22 Apr 2021 14:50:54 GMT', 'Vary': 'Accept-Encoding,Cookie,Authorization', 'Server': 'ATS/8.0.8', 'X-Content-Type-Options': 'nosniff', 'P3p': 'CP=\"See https://en.wikipedia.org/wiki/Special:CentralAutoLogin/P3P for more info.\"', 'Content-Language': 'en', 'X-Request-Id': '08263e99-2c7c-49d0-b49e-57075e638436', 'Last-Modified': 'Wed, 21 Apr 2021 14:18:45 GMT', 'Content-Type': 'text/html; charset=UTF-8', 'Content-Encoding': 'gzip', 'Age': '1464', 'X-Cache': 'cp1081 hit, cp1081 hit/5', 'X-Cache-Status': 'hit-front', 'Server-Timing': 'cache;desc=\"hit-front\", host;desc=\"cp1081\"', 'Strict-Transport-Security': 'max-age=106384710; includeSubDomains; preload', 'Report-To': '{ \"group\": \"wm_nel\", \"max_age\": 86400, \"endpoints\": [{ \"url\": \"https://intake-logging.wikimedia.org/v1/events?stream=w3c.reportingapi.network_error&schema_uri=/w3c/reportingapi/network_error/1.0.0\" }] }', 'NEL': '{ \"report_to\": \"wm_nel\", \"max_age\": 86400, \"failure_fraction\": 0.05, \"success_fraction\": 0.0}', 'Permissions-Policy': 'interest-cohort=()', 'Set-Cookie': 'WMF-Last-Access=22-Apr-2021;Path=/;HttpOnly;secure;Expires=Mon, 24 May 2021 12:00:00 GMT, WMF-Last-Access-Global=22-Apr-2021;Path=/;Domain=.wikipedia.org;HttpOnly;secure;Expires=Mon, 24 May 2021 12:00:00 GMT, GeoIP=US:MD:Frederick:39.36:-77.46:v4; Path=/; secure; Domain=.wikipedia.org', 'X-Client-IP': '73.87.179.223', 'Cache-Control': 'private, s-maxage=0, max-age=0, must-revalidate', 'Accept-Ranges': 'bytes', 'Content-Length': '111591', 'Connection': 'keep-alive'}\n"
     ]
    }
   ],
   "source": [
    "# Print the headers\n",
    "headers = page.headers\n",
    "print(headers)"
   ]
  },
  {
   "cell_type": "code",
   "execution_count": 10,
   "metadata": {},
   "outputs": [
    {
     "output_type": "execute_result",
     "data": {
      "text/plain": [
       "b'<!DOCTYPE html>\\n<html class=\"client-nojs\" lang=\"en\" dir=\"ltr\">\\n<head>\\n<meta charset=\"UTF-8\"/>\\n<title>University of Maryland, College Park - Wikipedia</title>\\n<script>document.documentElement.className=\"client-js\";RLCONF={\"wgBreakFrames\":!1,\"wgSeparatorTransformTable\":[\"\",\"\"],\"wgDigitTransformTable\":[\"\",\"\"],\"wgDefaultDateFormat\":\"dmy\",\"wgMonthNames\":[\"\",\"January\",\"February\",\"March\",\"April\",\"May\",\"June\",\"July\",\"August\",\"September\",\"October\",\"November\",\"December\"],\"wgRequestId\":\"08263e99-2c7c-49d0-'"
      ]
     },
     "metadata": {},
     "execution_count": 10
    }
   ],
   "source": [
    "# print first 500 characters of data in bytes\n",
    "bytes(page.text[:500], 'utf-8')"
   ]
  },
  {
   "cell_type": "code",
   "execution_count": 15,
   "metadata": {},
   "outputs": [
    {
     "output_type": "execute_result",
     "data": {
      "text/plain": [
       "'<!DOCTYPE html>\\n<html class=\"client-nojs\" lang=\"en\" dir=\"ltr\">\\n<head>\\n<meta charset=\"UTF-8\"/>\\n<title>University of Maryland, College Park - Wikipedia</title>\\n<script>document.documentElement.className=\"client-js\";RLCONF={\"wgBreakFrames\":!1,\"wgSeparatorTransformTable\":[\"\",\"\"],\"wgDigitTransformTable\":[\"\",\"\"],\"wgDefaultDateFormat\":\"dmy\",\"wgMonthNames\":[\"\",\"January\",\"February\",\"March\",\"April\",\"May\",\"June\",\"July\",\"August\",\"September\",\"October\",\"November\",\"December\"],\"wgRequestId\":\"08263e99-2c7c-49d0-'"
      ]
     },
     "metadata": {},
     "execution_count": 15
    }
   ],
   "source": [
    "# print the first 500 characters of the the html in unicode\n",
    "page.text[:500]"
   ]
  },
  {
   "cell_type": "code",
   "execution_count": 16,
   "metadata": {},
   "outputs": [
    {
     "output_type": "stream",
     "name": "stdout",
     "text": [
      "0:00:00.075840\n"
     ]
    }
   ],
   "source": [
    "# Print the time elapsed. This is from the requests.Response Object\n",
    "print(page.elapsed)"
   ]
  },
  {
   "cell_type": "code",
   "execution_count": 17,
   "metadata": {},
   "outputs": [
    {
     "output_type": "stream",
     "name": "stdout",
     "text": [
      "<RequestsCookieJar[<Cookie GeoIP=US:MD:Frederick:39.36:-77.46:v4 for .wikipedia.org/>, <Cookie WMF-Last-Access-Global=22-Apr-2021 for .wikipedia.org/>, <Cookie WMF-Last-Access=22-Apr-2021 for en.wikipedia.org/>]>\n"
     ]
    }
   ],
   "source": [
    "# Print the Cookies. This is from the requests.Response Object\n",
    "print(page.cookies)"
   ]
  },
  {
   "source": [
    "## Downloading Invalid Website"
   ],
   "cell_type": "markdown",
   "metadata": {}
  },
  {
   "cell_type": "code",
   "execution_count": 19,
   "metadata": {},
   "outputs": [
    {
     "output_type": "stream",
     "name": "stdout",
     "text": [
      "404\n"
     ]
    }
   ],
   "source": [
    "# try to download html from https://en.wikipedia.org/lion and print out the status code\n",
    "invalid = requests.get('https://en.wikipedia.org/lion')\n",
    "print(invalid.status_code)"
   ]
  },
  {
   "cell_type": "markdown",
   "metadata": {},
   "source": [
    "## Downloading Valid Website"
   ]
  },
  {
   "cell_type": "code",
   "execution_count": 20,
   "metadata": {},
   "outputs": [],
   "source": [
    "# download html for another website of your choosing\n",
    "mysite = requests.get('https://www.discogs.com/Masayoshi-Takanaka-The-Rainbow-Goblins/master/392507')\n",
    "\n"
   ]
  },
  {
   "cell_type": "code",
   "execution_count": 23,
   "metadata": {},
   "outputs": [
    {
     "output_type": "stream",
     "name": "stdout",
     "text": [
      "<!DOCTYPE html>\n<!--[if lt IE 7]> <html class=\"no-js ie6 oldie\" lang=\"en-US\"> <![endif]-->\n<!--[if IE 7]>    <html class=\"no-js ie7 oldie\" lang=\"en-US\"> <![endif]-->\n<!--[if IE 8]>    <html class=\"no-js ie8 oldie\" lang=\"en-US\"> <![endif]-->\n<!--[if gt IE 8]><!--> <html class=\"no-js\" lang=\"en-US\"> <!--<![endif]-->\n<head>\n\n<title>Attention Required! | Cloudflare</title>\n\n<meta name=\"captcha-bypass\" id=\"captcha-bypass\" />\n<meta charset=\"UTF-8\" />\n<meta http-equiv=\"Content-Type\" content=\"text/html; \n"
     ]
    }
   ],
   "source": [
    "# print the first 500 characters of the html\n",
    "print(mysite.text[:500])"
   ]
  },
  {
   "cell_type": "markdown",
   "metadata": {},
   "source": [
    "## Downloading Weather Data "
   ]
  },
  {
   "cell_type": "code",
   "execution_count": 24,
   "metadata": {},
   "outputs": [],
   "source": [
    "# open url for darksky for college park or any zip code of your choosing: https://darksky.net/zipcode/20742/us12/en\n",
    "url = \"https://darksky.net/zipcode/20742/us12/en\"\n",
    "\n",
    "weather = requests.get(url)\n"
   ]
  },
  {
   "cell_type": "code",
   "execution_count": 25,
   "metadata": {},
   "outputs": [
    {
     "output_type": "stream",
     "name": "stdout",
     "text": [
      "<!doctype html>\n<html lang=\"en\">\n<head>\n  <meta charset=\"utf-8\" lang=\"en\">\n  <meta name=\"viewport\" content=\"width=device-width, initial-scale=1, maximum-scale=1.0\">\n  <meta name=\"apple-itunes-app\" content=\"app-id=517329357, affiliate-data=darkskynet\">\n  <meta name=\"google-play-app\" content=\"app-id=net.darksky.darksky\">\n\n  <meta name=\"description\" content=\"Dark Sky is the most accurate source of hyperlocal weather information for College Park, MD: with down-to-the-minute forecasts for your exact \n"
     ]
    }
   ],
   "source": [
    "# print the first 500 characters of the html\n",
    "print(weather.text[:500])\n"
   ]
  },
  {
   "cell_type": "code",
   "execution_count": 32,
   "metadata": {},
   "outputs": [],
   "source": [
    "# save html to file\n",
    "# HINT: look up how to write a file if you forget (https://www.w3schools.com/python/python_file_write.asp)\n",
    "f = open(\"weatherfile.txt\", \"w\")\n",
    "f.write(weather.text[:600])\n",
    "f.close()"
   ]
  },
  {
   "cell_type": "markdown",
   "metadata": {},
   "source": [
    "# Part B: Beautiful Soup"
   ]
  },
  {
   "cell_type": "markdown",
   "metadata": {},
   "source": [
    "## Practice using beautiful soup"
   ]
  },
  {
   "cell_type": "code",
   "execution_count": 34,
   "metadata": {},
   "outputs": [],
   "source": [
    "# example html\n",
    "html = \"\"\"<!DOCTYPE html>\n",
    "            <html>\n",
    "            <head>\n",
    "            <title>INST447 Lab 8</title>\n",
    "            </head>\n",
    "            <body>\n",
    "\n",
    "            <h1>This is a Heading</h1>\n",
    "            <p class=\"firstpara\">This is first paragraph.</p>\n",
    "            <p>This is second paragraph.</p>\n",
    "            <p id=\"third\">This is third paragraph. <h1>Header tag in third paragraph</h1>\n",
    "                 <p id=\"fourth\">Fourth paragraph</p>\n",
    "            </p>\n",
    "\n",
    "            </body>\n",
    "            </html>\n",
    "        \"\"\""
   ]
  },
  {
   "cell_type": "code",
   "execution_count": 36,
   "metadata": {},
   "outputs": [
    {
     "output_type": "stream",
     "name": "stdout",
     "text": [
      "<!DOCTYPE html>\n\n<html>\n<head>\n<title>INST447 Lab 8</title>\n</head>\n<body>\n<h1>This is a Heading</h1>\n<p class=\"firstpara\">This is first paragraph.</p>\n<p>This is second paragraph.</p>\n<p id=\"third\">This is third paragraph. <h1>Header tag in third paragraph</h1>\n<p id=\"fourth\">Fourth paragraph</p>\n</p>\n</body>\n</html>\n\n"
     ]
    }
   ],
   "source": [
    "# convert into beautiful soup\n",
    "soup = BeautifulSoup(html, 'html.parser')\n",
    "# print beautifulsoup object\n",
    "print(soup)"
   ]
  },
  {
   "cell_type": "code",
   "execution_count": 39,
   "metadata": {},
   "outputs": [
    {
     "output_type": "stream",
     "name": "stdout",
     "text": [
      "This is third paragraph. Header tag in third paragraph\nFourth paragraph\n\nFourth paragraph\n"
     ]
    }
   ],
   "source": [
    "# Find the <p> tag with an id=\"third\" and print it\n",
    "element = soup.find('p', id=\"third\")\n",
    "print(element.getText())\n",
    "\n",
    "# Find the children of the <p> tag with an id=\"third\" and print them if they exist\n",
    "element = soup.find('p', id=\"fourth\")\n",
    "print(element.getText())"
   ]
  },
  {
   "cell_type": "code",
   "execution_count": 40,
   "metadata": {},
   "outputs": [
    {
     "output_type": "stream",
     "name": "stdout",
     "text": [
      "INST447 Lab 8\n"
     ]
    }
   ],
   "source": [
    "# use find to get the title\n",
    "element = soup.find(\"title\")\n",
    "\n",
    "# get the text within the title tags and print\n",
    "print(element.getText())"
   ]
  },
  {
   "cell_type": "code",
   "execution_count": 43,
   "metadata": {},
   "outputs": [
    {
     "output_type": "stream",
     "name": "stdout",
     "text": [
      "This is a Heading\nHeader tag in third paragraph\n"
     ]
    }
   ],
   "source": [
    "# use findAll to get the heading 'h1' and print\n",
    "elements = soup.findAll(\"h1\")\n",
    "for i in elements:\n",
    "    print(i.getText())"
   ]
  },
  {
   "cell_type": "code",
   "execution_count": 44,
   "metadata": {},
   "outputs": [
    {
     "output_type": "stream",
     "name": "stdout",
     "text": [
      "This is first paragraph.\nThis is second paragraph.\nThis is third paragraph. Header tag in third paragraph\nFourth paragraph\n\nFourth paragraph\n"
     ]
    }
   ],
   "source": [
    "# use findall to get all of the paragraphs and print\n",
    "elements = soup.findAll(\"p\")\n",
    "for i in elements:\n",
    "    print(i.getText())"
   ]
  },
  {
   "cell_type": "code",
   "execution_count": 45,
   "metadata": {},
   "outputs": [
    {
     "output_type": "stream",
     "name": "stdout",
     "text": [
      "This is first paragraph.\n"
     ]
    }
   ],
   "source": [
    "# Final all <p> tags with a class of \"firstpara\" and print them\n",
    "elements = soup.findAll(\"p\", {'class' : \"firstpara\"})\n",
    "for i in elements:\n",
    "    print(i.getText())"
   ]
  },
  {
   "cell_type": "markdown",
   "metadata": {},
   "source": [
    "## Using beautiful soup to get weather data"
   ]
  },
  {
   "cell_type": "code",
   "execution_count": 48,
   "metadata": {},
   "outputs": [
    {
     "output_type": "stream",
     "name": "stdout",
     "text": [
      "<!doctype html>\n<html lang=\"en\">\n<head>\n  <meta charset=\"utf-8\" lang=\"en\">\n  <meta name=\"viewport\" content=\"width=device-width, initial-scale=1, maximum-scale=1.0\">\n  <meta name=\"apple-itunes-app\" content=\"app-id=517329357, affiliate-data=darkskynet\">\n  <meta name=\"google-play-app\" content=\"app-id=net.darksky.darksky\">\n\n  <meta name=\"description\" content=\"Dark Sky is the most accurate source of hyperlocal weather information for College Park, MD: with down-to-the-minute forecasts for your exact \n"
     ]
    }
   ],
   "source": [
    "# read in html from weather site. We are using a local file due to the fact that the site\n",
    "#   changes. This file keeps the assessment the same.\n",
    "f = open(\"/Users/zacfo/Downloads/WeatherInfo.txt\",\"r\", encoding='utf-8')\n",
    "html = f.read()\n",
    "\n",
    "#print html\n",
    "print(html[:500])"
   ]
  },
  {
   "cell_type": "code",
   "execution_count": 49,
   "metadata": {
    "tags": [
     "outputPrepend"
    ]
   },
   "outputs": [
    {
     "output_type": "stream",
     "name": "stdout",
     "text": [
      "ref=\"/tos\">Terms of Service</a></li>\n<li><a href=\"/attribution\">Attribution</a></li>\n<li><a href=\"https://blog.darksky.net/\">Blog</a></li>\n<li><a href=\"/help\">Help</a></li>\n<li><a href=\"/contact\">Contact</a></li>\n<li><a href=\"/privacy\">Privacy</a></li>\n</ul>\n</div>\n</div>\n<div class=\"copyright\">\n<span class=\"copyright\">Copyright © 2020 <a href=\"https://apple.com\">Apple Inc.</a> All rights reserved. </span>\n</div>\n</div>\n<script>\n                      var latitude = 38.9895,\n                      longitude = -76.9456,\n                      forecastTime = 1605276777,\n                      tz_offset = -5,\n                      units = \"us\",\n                      language = \"en\",\n                      timeFormat = \"12\",\n                      languageReversed = false,\n                      conditions = {\"clear\":\"clear\",\"light-clouds\":\"partly cloudy\",\"heavy-clouds\":\"overcast\",\"medium-rain\":\"rain\",\"very-light-rain\":\"drizzle\",\"light-rain\":\"light rain\",\"heavy-rain\":\"heavy rain\",\"medium-sleet\":\"sleet\",\"very-light-sleet\":\"light sleet\",\"light-sleet\":\"light sleet\",\"heavy-sleet\":\"heavy sleet\",\"medium-snow\":\"snow\",\"very-light-snow\":\"flurries\",\"light-snow\":\"light snow\",\"heavy-snow\":\"heavy snow\"},\n                      calendar_i18n = {\"months\":[\"January\",\"February\",\"March\",\"April\",\"May\",\"June\",\"July\",\"August\",\"September\",\"October\",\"November\",\"December\"],\"weekdays\":[\"Sunday\",\"Monday\",\"Tuesday\",\"Wednesday\",\"Thursday\",\"Friday\",\"Saturday\"],\"weekdaysShort\":[\"Sun\",\"Mon\",\"Tue\",\"Wed\",\"Thu\",\"Fri\",\"Sat\"]},\n                      minutely = null,\n                      cityName = \"College Park, MD\",\n                      cityNameOnly = true,\n                      hours = [{\"time\":1605276000,\"summary\":\"Overcast\",\"icon\":\"cloudy\",\"precipIntensity\":0.0008,\"precipProbability\":0.07,\"precipType\":\"rain\",\"temperature\":47.99,\"apparentTemperature\":47.99,\"dewPoint\":44.42,\"humidity\":0.87,\"pressure\":1016.8,\"windSpeed\":2.23,\"windGust\":6.99,\"windBearing\":301,\"cloudCover\":0.9,\"uvIndex\":1,\"visibility\":10,\"ozone\":264.9,\"solar\":{\"azimuth\":136,\"altitude\":20,\"dni\":250.7,\"ghi\":94.8,\"dhi\":8.6,\"etr\":1390}},{\"time\":1605279600,\"summary\":\"Mostly Cloudy\",\"icon\":\"partly-cloudy-day\",\"precipIntensity\":0.0001,\"precipProbability\":0.04,\"precipType\":\"rain\",\"temperature\":49.49,\"apparentTemperature\":49.02,\"dewPoint\":45.28,\"humidity\":0.85,\"pressure\":1016.8,\"windSpeed\":3.09,\"windGust\":10.12,\"windBearing\":295,\"cloudCover\":0.73,\"uvIndex\":2,\"visibility\":10,\"ozone\":265.5,\"solar\":{\"azimuth\":150,\"altitude\":27,\"dni\":422,\"ghi\":211.4,\"dhi\":19.2,\"etr\":1390}},{\"time\":1605283200,\"summary\":\"Mostly Cloudy\",\"icon\":\"partly-cloudy-day\",\"precipIntensity\":0.0005,\"precipProbability\":0.02,\"precipType\":\"rain\",\"temperature\":51.88,\"apparentTemperature\":51.88,\"dewPoint\":47.2,\"humidity\":0.84,\"pressure\":1016.5,\"windSpeed\":4.99,\"windGust\":13.52,\"windBearing\":298,\"cloudCover\":0.66,\"uvIndex\":2,\"visibility\":10,\"ozone\":266.4,\"solar\":{\"azimuth\":165,\"altitude\":32,\"dni\":492.3,\"ghi\":283.2,\"dhi\":25.7,\"etr\":1390}},{\"time\":1605286800,\"summary\":\"Partly Cloudy\",\"icon\":\"partly-cloudy-day\",\"precipIntensity\":0,\"precipProbability\":0,\"temperature\":55.1,\"apparentTemperature\":55.1,\"dewPoint\":48.67,\"humidity\":0.79,\"pressure\":1015.9,\"windSpeed\":7.28,\"windGust\":18.94,\"windBearing\":304,\"cloudCover\":0.51,\"uvIndex\":3,\"visibility\":10,\"ozone\":267.3,\"solar\":{\"azimuth\":182,\"altitude\":33,\"dni\":600.9,\"ghi\":357.8,\"dhi\":32.5,\"etr\":1390}},{\"time\":1605290400,\"summary\":\"Partly Cloudy\",\"icon\":\"partly-cloudy-day\",\"precipIntensity\":0,\"precipProbability\":0,\"temperature\":58.13,\"apparentTemperature\":58.13,\"dewPoint\":48.58,\"humidity\":0.7,\"pressure\":1015.7,\"windSpeed\":8.69,\"windGust\":21.66,\"windBearing\":310,\"cloudCover\":0.43,\"uvIndex\":2,\"visibility\":10,\"ozone\":267.9,\"solar\":{\"azimuth\":199,\"altitude\":31,\"dni\":636.6,\"ghi\":356.8,\"dhi\":32.4,\"etr\":1390.1}},{\"time\":1605294000,\"summary\":\"Clear\",\"icon\":\"clear-day\",\"precipIntensity\":0,\"precipProbability\":0,\"temperature\":59.76,\"apparentTemperature\":59.76,\"dewPoint\":48.21,\"humidity\":0.66,\"pressure\":1015.4,\"windSpeed\":8.72,\"windGust\":21.28,\"windBearing\":311,\"cloudCover\":0.28,\"uvIndex\":2,\"visibility\":10,\"ozone\":267.4,\"solar\":{\"azimuth\":214,\"altitude\":25,\"dni\":658.4,\"ghi\":311.1,\"dhi\":28.3,\"etr\":1390.1}},{\"time\":1605297600,\"summary\":\"Clear\",\"icon\":\"clear-day\",\"precipIntensity\":0,\"precipProbability\":0,\"temperature\":60.63,\"apparentTemperature\":60.63,\"dewPoint\":48.33,\"humidity\":0.64,\"pressure\":1015.3,\"windSpeed\":7.88,\"windGust\":19.03,\"windBearing\":310,\"cloudCover\":0.14,\"uvIndex\":1,\"visibility\":10,\"ozone\":266.5,\"solar\":{\"azimuth\":227,\"altitude\":18,\"dni\":603.2,\"ghi\":203.6,\"dhi\":18.5,\"etr\":1390.1}},{\"time\":1605301200,\"summary\":\"Clear\",\"icon\":\"clear-day\",\"precipIntensity\":0.0003,\"precipProbability\":0.02,\"precipType\":\"rain\",\"temperature\":59.85,\"apparentTemperature\":59.85,\"dewPoint\":48.37,\"humidity\":0.66,\"pressure\":1015.1,\"windSpeed\":7.11,\"windGust\":17.53,\"windBearing\":309,\"cloudCover\":0,\"uvIndex\":0,\"visibility\":10,\"ozone\":266.8,\"solar\":{\"azimuth\":238,\"altitude\":9,\"dni\":386.6,\"ghi\":63.8,\"dhi\":5.8,\"etr\":1390.1}},{\"time\":1605304800,\"summary\":\"Clear\",\"icon\":\"clear-night\",\"precipIntensity\":0.0002,\"precipProbability\":0.02,\"precipType\":\"rain\",\"temperature\":57.36,\"apparentTemperature\":57.36,\"dewPoint\":47.71,\"humidity\":0.7,\"pressure\":1015.8,\"windSpeed\":7.07,\"windGust\":15.58,\"windBearing\":306,\"cloudCover\":0,\"uvIndex\":0,\"visibility\":10,\"ozone\":269.6},{\"time\":1605308400,\"summary\":\"Clear\",\"icon\":\"clear-night\",\"precipIntensity\":0.0011,\"precipProbability\":0.01,\"precipType\":\"rain\",\"temperature\":54.84,\"apparentTemperature\":54.84,\"dewPoint\":46.04,\"humidity\":0.72,\"pressure\":1016.5,\"windSpeed\":7.45,\"windGust\":17.72,\"windBearing\":307,\"cloudCover\":0,\"uvIndex\":0,\"visibility\":10,\"ozone\":273.5},{\"time\":1605312000,\"summary\":\"Clear\",\"icon\":\"clear-night\",\"precipIntensity\":0,\"precipProbability\":0,\"temperature\":53.06,\"apparentTemperature\":53.06,\"dewPoint\":44.5,\"humidity\":0.73,\"pressure\":1017.5,\"windSpeed\":7.62,\"windGust\":18.74,\"windBearing\":309,\"cloudCover\":0,\"uvIndex\":0,\"visibility\":10,\"ozone\":276.5},{\"time\":1605315600,\"summary\":\"Clear\",\"icon\":\"clear-night\",\"precipIntensity\":0,\"precipProbability\":0,\"temperature\":51.74,\"apparentTemperature\":51.74,\"dewPoint\":43.25,\"humidity\":0.73,\"pressure\":1018.2,\"windSpeed\":7.75,\"windGust\":18.75,\"windBearing\":310,\"cloudCover\":0,\"uvIndex\":0,\"visibility\":10,\"ozone\":277.6},{\"time\":1605319200,\"summary\":\"Clear\",\"icon\":\"clear-night\",\"precipIntensity\":0.0006,\"precipProbability\":0.02,\"precipType\":\"rain\",\"temperature\":50.96,\"apparentTemperature\":50.96,\"dewPoint\":42.06,\"humidity\":0.71,\"pressure\":1018.5,\"windSpeed\":7.84,\"windGust\":17.91,\"windBearing\":308,\"cloudCover\":0,\"uvIndex\":0,\"visibility\":10,\"ozone\":277.6},{\"time\":1605322800,\"summary\":\"Clear\",\"icon\":\"clear-night\",\"precipIntensity\":0.0004,\"precipProbability\":0.02,\"precipType\":\"rain\",\"temperature\":50.08,\"apparentTemperature\":50.08,\"dewPoint\":41.09,\"humidity\":0.71,\"pressure\":1019.1,\"windSpeed\":7.73,\"windGust\":16.78,\"windBearing\":308,\"cloudCover\":0,\"uvIndex\":0,\"visibility\":10,\"ozone\":277},{\"time\":1605326400,\"summary\":\"Clear\",\"icon\":\"clear-night\",\"precipIntensity\":0,\"precipProbability\":0,\"temperature\":49.29,\"apparentTemperature\":45.97,\"dewPoint\":40.05,\"humidity\":0.7,\"pressure\":1019.7,\"windSpeed\":7.83,\"windGust\":17.61,\"windBearing\":308,\"cloudCover\":0.01,\"uvIndex\":0,\"visibility\":10,\"ozone\":276},{\"time\":1605330000,\"summary\":\"Clear\",\"icon\":\"clear-night\",\"precipIntensity\":0,\"precipProbability\":0,\"temperature\":48.28,\"apparentTemperature\":44.87,\"dewPoint\":39.87,\"humidity\":0.73,\"pressure\":1019.7,\"windSpeed\":7.53,\"windGust\":17.22,\"windBearing\":308,\"cloudCover\":0.01,\"uvIndex\":0,\"visibility\":10,\"ozone\":274.5},{\"time\":1605333600,\"summary\":\"Clear\",\"icon\":\"clear-night\",\"precipIntensity\":0,\"precipProbability\":0,\"temperature\":47.1,\"apparentTemperature\":43.6,\"dewPoint\":39.48,\"humidity\":0.75,\"pressure\":1019.9,\"windSpeed\":7.19,\"windGust\":16.32,\"windBearing\":306,\"cloudCover\":0.02,\"uvIndex\":0,\"visibility\":10,\"ozone\":273.2},{\"time\":1605337200,\"summary\":\"Clear\",\"icon\":\"clear-night\",\"precipIntensity\":0,\"precipProbability\":0,\"temperature\":45.76,\"apparentTemperature\":42.19,\"dewPoint\":38.91,\"humidity\":0.77,\"pressure\":1020.5,\"windSpeed\":6.79,\"windGust\":14.17,\"windBearing\":305,\"cloudCover\":0.02,\"uvIndex\":0,\"visibility\":10,\"ozone\":271.8},{\"time\":1605340800,\"summary\":\"Clear\",\"icon\":\"clear-night\",\"precipIntensity\":0,\"precipProbability\":0,\"temperature\":44.37,\"apparentTemperature\":40.76,\"dewPoint\":38.35,\"humidity\":0.79,\"pressure\":1021.2,\"windSpeed\":6.34,\"windGust\":11.51,\"windBearing\":304,\"cloudCover\":0.12,\"uvIndex\":0,\"visibility\":10,\"ozone\":270.5},{\"time\":1605344400,\"summary\":\"Clear\",\"icon\":\"clear-night\",\"precipIntensity\":0,\"precipProbability\":0,\"temperature\":43.27,\"apparentTemperature\":39.64,\"dewPoint\":37.7,\"humidity\":0.81,\"pressure\":1021.7,\"windSpeed\":6.02,\"windGust\":9.79,\"windBearing\":303,\"cloudCover\":0.08,\"uvIndex\":0,\"visibility\":10,\"ozone\":270.1},{\"time\":1605348000,\"summary\":\"Clear\",\"icon\":\"clear-night\",\"precipIntensity\":0,\"precipProbability\":0,\"temperature\":41.69,\"apparentTemperature\":37.84,\"dewPoint\":36.76,\"humidity\":0.83,\"pressure\":1022.3,\"windSpeed\":5.9,\"windGust\":9.78,\"windBearing\":303,\"cloudCover\":0.28,\"uvIndex\":0,\"visibility\":10,\"ozone\":270.8},{\"time\":1605351600,\"summary\":\"Partly Cloudy\",\"icon\":\"partly-cloudy-night\",\"precipIntensity\":0.0002,\"precipProbability\":0.02,\"precipType\":\"rain\",\"temperature\":40.36,\"apparentTemperature\":36.24,\"dewPoint\":35.99,\"humidity\":0.84,\"pressure\":1022.7,\"windSpeed\":5.92,\"windGust\":10.73,\"windBearing\":301,\"cloudCover\":0.35,\"uvIndex\":0,\"visibility\":10,\"ozone\":272.2},{\"time\":1605355200,\"summary\":\"Partly Cloudy\",\"icon\":\"partly-cloudy-day\",\"precipIntensity\":0.0003,\"precipProbability\":0.02,\"precipType\":\"rain\",\"temperature\":39.91,\"apparentTemperature\":35.59,\"dewPoint\":36.11,\"humidity\":0.86,\"pressure\":1023.3,\"windSpeed\":6.1,\"windGust\":11.87,\"windBearing\":301,\"cloudCover\":0.38,\"uvIndex\":0,\"visibility\":10,\"ozone\":274.4,\"solar\":{\"azimuth\":115,\"altitude\":1,\"dni\":8.4,\"ghi\":0.1,\"dhi\":0,\"etr\":1390.5}},{\"time\":1605358800,\"summary\":\"Clear\",\"icon\":\"clear-day\",\"precipIntensity\":0.0003,\"precipProbability\":0.02,\"precipType\":\"rain\",\"temperature\":41.27,\"apparentTemperature\":36.9,\"dewPoint\":36.98,\"humidity\":0.85,\"pressure\":1023.8,\"windSpeed\":6.59,\"windGust\":13.35,\"windBearing\":304,\"cloudCover\":0.23,\"uvIndex\":0,\"visibility\":10,\"ozone\":278.4,\"solar\":{\"azimuth\":125,\"altitude\":11,\"dni\":428.9,\"ghi\":90.2,\"dhi\":8.2,\"etr\":1390.6}},{\"time\":1605362400,\"summary\":\"Clear\",\"icon\":\"clear-day\",\"precipIntensity\":0.0002,\"precipProbability\":0.02,\"precipType\":\"rain\",\"temperature\":44.21,\"apparentTemperature\":40.11,\"dewPoint\":37.5,\"humidity\":0.77,\"pressure\":1024.5,\"windSpeed\":7.2,\"windGust\":14.98,\"windBearing\":307,\"cloudCover\":0.26,\"uvIndex\":1,\"visibility\":10,\"ozone\":283.2,\"solar\":{\"azimuth\":136,\"altitude\":20,\"dni\":599.1,\"ghi\":223.9,\"dhi\":20.4,\"etr\":1390.6}},{\"time\":1605366000,\"summary\":\"Partly Cloudy\",\"icon\":\"partly-cloudy-day\",\"precipIntensity\":0,\"precipProbability\":0,\"temperature\":47.07,\"apparentTemperature\":43.38,\"dewPoint\":37.53,\"humidity\":0.69,\"pressure\":1024.6,\"windSpeed\":7.58,\"windGust\":15.7,\"windBearing\":309,\"cloudCover\":0.35,\"uvIndex\":2,\"visibility\":10,\"ozone\":285.9,\"solar\":{\"azimuth\":150,\"altitude\":27,\"dni\":642.4,\"ghi\":319,\"dhi\":29,\"etr\":1390.6}},{\"time\":1605369600,\"summary\":\"Clear\",\"icon\":\"clear-day\",\"precipIntensity\":0,\"precipProbability\":0,\"temperature\":49.03,\"apparentTemperature\":45.73,\"dewPoint\":37.04,\"humidity\":0.63,\"pressure\":1024.5,\"windSpeed\":7.66,\"windGust\":14.77,\"windBearing\":309,\"cloudCover\":0.29,\"uvIndex\":3,\"visibility\":10,\"ozone\":284.3,\"solar\":{\"azimuth\":165,\"altitude\":31,\"dni\":708.7,\"ghi\":404.6,\"dhi\":36.8,\"etr\":1390.6}},{\"time\":1605373200,\"summary\":\"Clear\",\"icon\":\"clear-day\",\"precipIntensity\":0,\"precipProbability\":0,\"temperature\":51.33,\"apparentTemperature\":51.33,\"dewPoint\":35.75,\"humidity\":0.55,\"pressure\":1023.7,\"windSpeed\":7.55,\"windGust\":12.91,\"windBearing\":306,\"cloudCover\":0.13,\"uvIndex\":3,\"visibility\":10,\"ozone\":280.7,\"solar\":{\"azimuth\":182,\"altitude\":33,\"dni\":776.4,\"ghi\":459,\"dhi\":41.7,\"etr\":1390.7}},{\"time\":1605376800,\"summary\":\"Clear\",\"icon\":\"clear-day\",\"precipIntensity\":0,\"precipProbability\":0,\"temperature\":52.85,\"apparentTemperature\":52.85,\"dewPoint\":34.44,\"humidity\":0.49,\"pressure\":1023.5,\"windSpeed\":7.13,\"windGust\":11.23,\"windBearing\":306,\"cloudCover\":0.11,\"uvIndex\":3,\"visibility\":10,\"ozone\":278.1,\"solar\":{\"azimuth\":199,\"altitude\":30,\"dni\":765.1,\"ghi\":425.7,\"dhi\":38.7,\"etr\":1390.7}},{\"time\":1605380400,\"summary\":\"Clear\",\"icon\":\"clear-day\",\"precipIntensity\":0,\"precipProbability\":0,\"temperature\":53.79,\"apparentTemperature\":53.79,\"dewPoint\":34.1,\"humidity\":0.47,\"pressure\":1023.3,\"windSpeed\":6.24,\"windGust\":10.19,\"windBearing\":304,\"cloudCover\":0.14,\"uvIndex\":2,\"visibility\":10,\"ozone\":278.2,\"solar\":{\"azimuth\":214,\"altitude\":25,\"dni\":706.2,\"ghi\":331.1,\"dhi\":30.1,\"etr\":1390.7}},{\"time\":1605384000,\"summary\":\"Clear\",\"icon\":\"clear-day\",\"precipIntensity\":0,\"precipProbability\":0,\"temperature\":53.66,\"apparentTemperature\":53.66,\"dewPoint\":34.84,\"humidity\":0.49,\"pressure\":1023.4,\"windSpeed\":5.04,\"windGust\":9.37,\"windBearing\":304,\"cloudCover\":0.25,\"uvIndex\":1,\"visibility\":10,\"ozone\":279.4,\"solar\":{\"azimuth\":227,\"altitude\":18,\"dni\":568.4,\"ghi\":190,\"dhi\":17.3,\"etr\":1390.7}},{\"time\":1605387600,\"summary\":\"Clear\",\"icon\":\"clear-day\",\"precipIntensity\":0,\"precipProbability\":0,\"temperature\":52.51,\"apparentTemperature\":52.51,\"dewPoint\":35.65,\"humidity\":0.53,\"pressure\":1023.5,\"windSpeed\":3.89,\"windGust\":8.28,\"windBearing\":312,\"cloudCover\":0.3,\"uvIndex\":0,\"visibility\":10,\"ozone\":280,\"solar\":{\"azimuth\":238,\"altitude\":8,\"dni\":335.6,\"ghi\":54.4,\"dhi\":4.9,\"etr\":1390.8}},{\"time\":1605391200,\"summary\":\"Clear\",\"icon\":\"clear-night\",\"precipIntensity\":0,\"precipProbability\":0,\"temperature\":49.78,\"apparentTemperature\":49.78,\"dewPoint\":35.85,\"humidity\":0.59,\"pressure\":1023.9,\"windSpeed\":2.89,\"windGust\":6.48,\"windBearing\":333,\"cloudCover\":0.28,\"uvIndex\":0,\"visibility\":10,\"ozone\":279.8},{\"time\":1605394800,\"summary\":\"Clear\",\"icon\":\"clear-night\",\"precipIntensity\":0,\"precipProbability\":0,\"temperature\":47.18,\"apparentTemperature\":47.18,\"dewPoint\":35.38,\"humidity\":0.63,\"pressure\":1024.5,\"windSpeed\":1.98,\"windGust\":4.34,\"windBearing\":6,\"cloudCover\":0.22,\"uvIndex\":0,\"visibility\":10,\"ozone\":279.2},{\"time\":1605398400,\"summary\":\"Clear\",\"icon\":\"clear-night\",\"precipIntensity\":0,\"precipProbability\":0,\"temperature\":45,\"apparentTemperature\":45,\"dewPoint\":35.19,\"humidity\":0.68,\"pressure\":1024.9,\"windSpeed\":1.46,\"windGust\":3.1,\"windBearing\":40,\"cloudCover\":0.16,\"uvIndex\":0,\"visibility\":10,\"ozone\":277.8},{\"time\":1605402000,\"summary\":\"Clear\",\"icon\":\"clear-night\",\"precipIntensity\":0,\"precipProbability\":0,\"temperature\":44.1,\"apparentTemperature\":44.1,\"dewPoint\":34.96,\"humidity\":0.7,\"pressure\":1024.9,\"windSpeed\":1.58,\"windGust\":3.47,\"windBearing\":63,\"cloudCover\":0.28,\"uvIndex\":0,\"visibility\":10,\"ozone\":275.5},{\"time\":1605405600,\"summary\":\"Partly Cloudy\",\"icon\":\"partly-cloudy-night\",\"precipIntensity\":0,\"precipProbability\":0,\"temperature\":43.71,\"apparentTemperature\":43.71,\"dewPoint\":34.59,\"humidity\":0.7,\"pressure\":1024.8,\"windSpeed\":2.09,\"windGust\":4.79,\"windBearing\":89,\"cloudCover\":0.37,\"uvIndex\":0,\"visibility\":10,\"ozone\":272.5},{\"time\":1605409200,\"summary\":\"Partly Cloudy\",\"icon\":\"partly-cloudy-night\",\"precipIntensity\":0,\"precipProbability\":0,\"temperature\":43.32,\"apparentTemperature\":43.32,\"dewPoint\":34.36,\"humidity\":0.7,\"pressure\":1024.7,\"windSpeed\":2.61,\"windGust\":6.03,\"windBearing\":110,\"cloudCover\":0.36,\"uvIndex\":0,\"visibility\":10,\"ozone\":269.6},{\"time\":1605412800,\"summary\":\"Partly Cloudy\",\"icon\":\"partly-cloudy-night\",\"precipIntensity\":0,\"precipProbability\":0,\"temperature\":43.08,\"apparentTemperature\":43.08,\"dewPoint\":34.2,\"humidity\":0.71,\"pressure\":1024,\"windSpeed\":2.94,\"windGust\":6.65,\"windBearing\":119,\"cloudCover\":0.37,\"uvIndex\":0,\"visibility\":10,\"ozone\":266.4},{\"time\":1605416400,\"summary\":\"Partly Cloudy\",\"icon\":\"partly-cloudy-night\",\"precipIntensity\":0.0004,\"precipProbability\":0.01,\"precipType\":\"rain\",\"temperature\":42.97,\"apparentTemperature\":41.41,\"dewPoint\":34.04,\"humidity\":0.71,\"pressure\":1023.5,\"windSpeed\":3.3,\"windGust\":7.23,\"windBearing\":121,\"cloudCover\":0.43,\"uvIndex\":0,\"visibility\":10,\"ozone\":263.1},{\"time\":1605420000,\"summary\":\"Partly Cloudy\",\"icon\":\"partly-cloudy-night\",\"precipIntensity\":0.0004,\"precipProbability\":0.01,\"precipType\":\"rain\",\"temperature\":42.99,\"apparentTemperature\":40.97,\"dewPoint\":34.84,\"humidity\":0.73,\"pressure\":1023,\"windSpeed\":3.78,\"windGust\":8.51,\"windBearing\":124,\"cloudCover\":0.4,\"uvIndex\":0,\"visibility\":10,\"ozone\":261.2},{\"time\":1605423600,\"summary\":\"Mostly Cloudy\",\"icon\":\"partly-cloudy-night\",\"precipIntensity\":0.0003,\"precipProbability\":0.01,\"precipType\":\"rain\",\"temperature\":43.26,\"apparentTemperature\":40.73,\"dewPoint\":35.94,\"humidity\":0.75,\"pressure\":1022.3,\"windSpeed\":4.43,\"windGust\":11.03,\"windBearing\":130,\"cloudCover\":0.63,\"uvIndex\":0,\"visibility\":10,\"ozone\":261.5},{\"time\":1605427200,\"summary\":\"Mostly Cloudy\",\"icon\":\"partly-cloudy-night\",\"precipIntensity\":0,\"precipProbability\":0,\"temperature\":44.25,\"apparentTemperature\":41.32,\"dewPoint\":37.28,\"humidity\":0.76,\"pressure\":1021.7,\"windSpeed\":5.21,\"windGust\":14.27,\"windBearing\":139,\"cloudCover\":0.81,\"uvIndex\":0,\"visibility\":10,\"ozone\":262.9},{\"time\":1605430800,\"summary\":\"Overcast\",\"icon\":\"cloudy\",\"precipIntensity\":0,\"precipProbability\":0,\"temperature\":44.95,\"apparentTemperature\":41.6,\"dewPoint\":38.48,\"humidity\":0.78,\"pressure\":1021,\"windSpeed\":6.08,\"windGust\":17.49,\"windBearing\":146,\"cloudCover\":0.91,\"uvIndex\":0,\"visibility\":10,\"ozone\":264.4},{\"time\":1605434400,\"summary\":\"Overcast\",\"icon\":\"cloudy\",\"precipIntensity\":0,\"precipProbability\":0,\"temperature\":45.51,\"apparentTemperature\":41.83,\"dewPoint\":39.26,\"humidity\":0.79,\"pressure\":1020.5,\"windSpeed\":6.91,\"windGust\":20.09,\"windBearing\":153,\"cloudCover\":0.88,\"uvIndex\":0,\"visibility\":10,\"ozone\":265.7},{\"time\":1605438000,\"summary\":\"Mostly Cloudy\",\"icon\":\"partly-cloudy-night\",\"precipIntensity\":0,\"precipProbability\":0,\"temperature\":46.19,\"apparentTemperature\":42.22,\"dewPoint\":39.94,\"humidity\":0.79,\"pressure\":1019.8,\"windSpeed\":7.77,\"windGust\":22.61,\"windBearing\":159,\"cloudCover\":0.78,\"uvIndex\":0,\"visibility\":10,\"ozone\":266.9},{\"time\":1605441600,\"summary\":\"Mostly Cloudy\",\"icon\":\"partly-cloudy-day\",\"precipIntensity\":0,\"precipProbability\":0,\"temperature\":47.16,\"apparentTemperature\":42.92,\"dewPoint\":40.91,\"humidity\":0.79,\"pressure\":1018.9,\"windSpeed\":8.93,\"windGust\":25.81,\"windBearing\":166,\"cloudCover\":0.72,\"uvIndex\":0,\"visibility\":10,\"ozone\":267.4,\"solar\":{\"azimuth\":115,\"altitude\":1,\"dni\":4.2,\"ghi\":0.1,\"dhi\":0,\"etr\":1391.2}},{\"time\":1605445200,\"summary\":\"Mostly Cloudy\",\"icon\":\"partly-cloudy-day\",\"precipIntensity\":0,\"precipProbability\":0,\"temperature\":49.62,\"apparentTemperature\":45.32,\"dewPoint\":42.66,\"humidity\":0.77,\"pressure\":1018.1,\"windSpeed\":10.75,\"windGust\":30.66,\"windBearing\":172,\"cloudCover\":0.75,\"uvIndex\":0,\"visibility\":10,\"ozone\":267,\"solar\":{\"azimuth\":125,\"altitude\":11,\"dni\":246.6,\"ghi\":50.8,\"dhi\":4.6,\"etr\":1391.2}},{\"time\":1605448800,\"summary\":\"Mostly Cloudy\",\"icon\":\"partly-cloudy-day\",\"precipIntensity\":0,\"precipProbability\":0,\"temperature\":53.15,\"apparentTemperature\":53.15,\"dewPoint\":44.73,\"humidity\":0.73,\"pressure\":1016.8,\"windSpeed\":12.9,\"windGust\":35.9,\"windBearing\":179,\"cloudCover\":0.81,\"uvIndex\":1,\"visibility\":10,\"ozone\":266.1,\"solar\":{\"azimuth\":137,\"altitude\":20,\"dni\":312.7,\"ghi\":115.5,\"dhi\":10.5,\"etr\":1391.2}}],\n                      currently = {\"time\":1605276777,\"summary\":\"Mostly Cloudy\",\"icon\":\"partly-cloudy-day\",\"nearestStormDistance\":40,\"nearestStormBearing\":78,\"precipIntensity\":0,\"precipProbability\":0,\"temperature\":48.24,\"apparentTemperature\":48.16,\"dewPoint\":44.55,\"humidity\":0.87,\"pressure\":1016.8,\"windSpeed\":2.41,\"windGust\":7.64,\"windBearing\":299,\"cloudCover\":0.87,\"uvIndex\":1,\"visibility\":10,\"ozone\":265,\"solar\":{\"azimuth\":139,\"altitude\":22,\"dni\":282.7,\"ghi\":116.7,\"dhi\":10.6,\"etr\":1390}},\n                      map_info = {\"field\":\"temperature\",\"zoom\":6,\"lat\":38.9895,\"lon\":-76.9456};\n\n                      </script>\n<script src=\"/dist/js/main.2.js\" type=\"text/javascript\"></script>\n</body>\n</html>\n\n"
     ]
    }
   ],
   "source": [
    "# convert into beautiful soup\n",
    "soup = BeautifulSoup(html, 'html.parser')\n",
    "# print beautifulsoup object\n",
    "print(soup)"
   ]
  },
  {
   "cell_type": "code",
   "execution_count": 74,
   "metadata": {},
   "outputs": [
    {
     "output_type": "stream",
     "name": "stdout",
     "text": [
      "46˚\n39˚\n42˚\n41˚\n37˚\n33˚\n24˚\n46˚\n"
     ]
    },
    {
     "output_type": "execute_result",
     "data": {
      "text/plain": [
       "bs4.element.ResultSet"
      ]
     },
     "metadata": {},
     "execution_count": 74
    }
   ],
   "source": [
    "# Get and save elements that have the minimum temperature per day\n",
    "# HINT: use element inspector on website notice span of class minTemp\n",
    "minTemps = soup.findAll('span', {'class' : 'minTemp'})\n",
    "\n",
    "# print the elements with minimum temperature\n",
    "for i in minTemps:\n",
    "    print(i.getText())\n",
    "\n",
    "type(minTemps)"
   ]
  },
  {
   "cell_type": "code",
   "execution_count": 63,
   "metadata": {},
   "outputs": [
    {
     "output_type": "stream",
     "name": "stdout",
     "text": [
      "61˚\n54˚\n64˚\n57˚\n52˚\n45˚\n48˚\n63˚\n"
     ]
    }
   ],
   "source": [
    "# Get and save elements that have the maximum temperature per day\n",
    "# HINT: use element inspector on website notice span of class maxTemp\n",
    "maxTemps = soup.findAll('span', {'class' : 'maxTemp'})\n",
    "\n",
    "# print the elements with maximum temperature\n",
    "for i in maxTemps:\n",
    "    print(i.getText())"
   ]
  },
  {
   "cell_type": "code",
   "execution_count": 77,
   "metadata": {},
   "outputs": [
    {
     "output_type": "stream",
     "name": "stdout",
     "text": [
      "[None, None, None, None, None, None, None, None]\n"
     ]
    },
    {
     "output_type": "execute_result",
     "data": {
      "text/plain": [
       "list"
      ]
     },
     "metadata": {},
     "execution_count": 77
    }
   ],
   "source": [
    "# use regular expressions to save the minimum temperatures \n",
    "mintempsnum = [re.search(str(span), \"\\d+\") for span in minTemps]\n",
    "\n",
    "# print these numbers\n",
    "print(mintempsnum)"
   ]
  },
  {
   "cell_type": "code",
   "execution_count": 69,
   "metadata": {},
   "outputs": [
    {
     "output_type": "stream",
     "name": "stdout",
     "text": [
      "[None, None, None, None, None, None, None, None]\n"
     ]
    }
   ],
   "source": [
    "# use regular expressions to save the maximum temperatures\n",
    "maxtempsnum = [re.search(str(span),\"\\d+\") for span in maxTemps]\n",
    "# print these numbers\n",
    "print(maxtempsnum)"
   ]
  },
  {
   "cell_type": "code",
   "execution_count": 79,
   "metadata": {},
   "outputs": [
    {
     "output_type": "stream",
     "name": "stdout",
     "text": [
      "  minTemp maxTemp\n0    None    None\n1    None    None\n2    None    None\n3    None    None\n4    None    None\n"
     ]
    }
   ],
   "source": [
    "# create a data frame with minimum and maximum temperatures\n",
    "d = {'minTemp':mintempsnum, 'maxTemp':maxtempsnum}\n",
    "d\n",
    "df = pd.DataFrame(d)\n",
    "# print first rows of the data frame\n",
    "print(df.head())"
   ]
  },
  {
   "cell_type": "code",
   "execution_count": 80,
   "metadata": {},
   "outputs": [
    {
     "output_type": "execute_result",
     "data": {
      "text/plain": [
       "<AxesSubplot:xlabel='minTemp', ylabel='maxTemp'>"
      ]
     },
     "metadata": {},
     "execution_count": 80
    },
    {
     "output_type": "display_data",
     "data": {
      "text/plain": "<Figure size 432x288 with 1 Axes>",
      "image/svg+xml": "<?xml version=\"1.0\" encoding=\"utf-8\" standalone=\"no\"?>\r\n<!DOCTYPE svg PUBLIC \"-//W3C//DTD SVG 1.1//EN\"\r\n  \"http://www.w3.org/Graphics/SVG/1.1/DTD/svg11.dtd\">\r\n<!-- Created with matplotlib (https://matplotlib.org/) -->\r\n<svg height=\"262.19625pt\" version=\"1.1\" viewBox=\"0 0 400.523437 262.19625\" width=\"400.523437pt\" xmlns=\"http://www.w3.org/2000/svg\" xmlns:xlink=\"http://www.w3.org/1999/xlink\">\r\n <metadata>\r\n  <rdf:RDF xmlns:cc=\"http://creativecommons.org/ns#\" xmlns:dc=\"http://purl.org/dc/elements/1.1/\" xmlns:rdf=\"http://www.w3.org/1999/02/22-rdf-syntax-ns#\">\r\n   <cc:Work>\r\n    <dc:type rdf:resource=\"http://purl.org/dc/dcmitype/StillImage\"/>\r\n    <dc:date>2021-04-22T13:05:18.204302</dc:date>\r\n    <dc:format>image/svg+xml</dc:format>\r\n    <dc:creator>\r\n     <cc:Agent>\r\n      <dc:title>Matplotlib v3.3.2, https://matplotlib.org/</dc:title>\r\n     </cc:Agent>\r\n    </dc:creator>\r\n   </cc:Work>\r\n  </rdf:RDF>\r\n </metadata>\r\n <defs>\r\n  <style type=\"text/css\">*{stroke-linecap:butt;stroke-linejoin:round;}</style>\r\n </defs>\r\n <g id=\"figure_1\">\r\n  <g id=\"patch_1\">\r\n   <path d=\"M 0 262.19625 \r\nL 400.523437 262.19625 \r\nL 400.523437 0 \r\nL 0 0 \r\nz\r\n\" style=\"fill:none;\"/>\r\n  </g>\r\n  <g id=\"axes_1\">\r\n   <g id=\"patch_2\">\r\n    <path d=\"M 58.523438 224.64 \r\nL 393.323438 224.64 \r\nL 393.323438 7.2 \r\nL 58.523438 7.2 \r\nz\r\n\" style=\"fill:#ffffff;\"/>\r\n   </g>\r\n   <g id=\"PathCollection_1\">\r\n    <defs>\r\n     <path d=\"M 0 2.236068 \r\nC 0.593012 2.236068 1.161816 2.000462 1.581139 1.581139 \r\nC 2.000462 1.161816 2.236068 0.593012 2.236068 0 \r\nC 2.236068 -0.593012 2.000462 -1.161816 1.581139 -1.581139 \r\nC 1.161816 -2.000462 0.593012 -2.236068 0 -2.236068 \r\nC -0.593012 -2.236068 -1.161816 -2.000462 -1.581139 -1.581139 \r\nC -2.000462 -1.161816 -2.236068 -0.593012 -2.236068 0 \r\nC -2.236068 0.593012 -2.000462 1.161816 -1.581139 1.581139 \r\nC -1.161816 2.000462 -0.593012 2.236068 0 2.236068 \r\nz\r\n\" id=\"mbf0e60506a\" style=\"stroke:#1f77b4;\"/>\r\n    </defs>\r\n    <g clip-path=\"url(#pf3a12c649c)\">\r\n     <use style=\"fill:#1f77b4;stroke:#1f77b4;\" x=\"0\" xlink:href=\"#mbf0e60506a\" y=\"0\"/>\r\n    </g>\r\n   </g>\r\n   <g id=\"matplotlib.axis_1\">\r\n    <g id=\"xtick_1\">\r\n     <g id=\"line2d_1\">\r\n      <defs>\r\n       <path d=\"M 0 0 \r\nL 0 3.5 \r\n\" id=\"mb247fa44cc\" style=\"stroke:#000000;stroke-width:0.8;\"/>\r\n      </defs>\r\n      <g>\r\n       <use style=\"stroke:#000000;stroke-width:0.8;\" x=\"104.177983\" xlink:href=\"#mb247fa44cc\" y=\"224.64\"/>\r\n      </g>\r\n     </g>\r\n     <g id=\"text_1\">\r\n      <!-- −0.04 -->\r\n      <g transform=\"translate(88.855327 239.238437)scale(0.1 -0.1)\">\r\n       <defs>\r\n        <path d=\"M 10.59375 35.5 \r\nL 73.1875 35.5 \r\nL 73.1875 27.203125 \r\nL 10.59375 27.203125 \r\nz\r\n\" id=\"DejaVuSans-8722\"/>\r\n        <path d=\"M 31.78125 66.40625 \r\nQ 24.171875 66.40625 20.328125 58.90625 \r\nQ 16.5 51.421875 16.5 36.375 \r\nQ 16.5 21.390625 20.328125 13.890625 \r\nQ 24.171875 6.390625 31.78125 6.390625 \r\nQ 39.453125 6.390625 43.28125 13.890625 \r\nQ 47.125 21.390625 47.125 36.375 \r\nQ 47.125 51.421875 43.28125 58.90625 \r\nQ 39.453125 66.40625 31.78125 66.40625 \r\nz\r\nM 31.78125 74.21875 \r\nQ 44.046875 74.21875 50.515625 64.515625 \r\nQ 56.984375 54.828125 56.984375 36.375 \r\nQ 56.984375 17.96875 50.515625 8.265625 \r\nQ 44.046875 -1.421875 31.78125 -1.421875 \r\nQ 19.53125 -1.421875 13.0625 8.265625 \r\nQ 6.59375 17.96875 6.59375 36.375 \r\nQ 6.59375 54.828125 13.0625 64.515625 \r\nQ 19.53125 74.21875 31.78125 74.21875 \r\nz\r\n\" id=\"DejaVuSans-48\"/>\r\n        <path d=\"M 10.6875 12.40625 \r\nL 21 12.40625 \r\nL 21 0 \r\nL 10.6875 0 \r\nz\r\n\" id=\"DejaVuSans-46\"/>\r\n        <path d=\"M 37.796875 64.3125 \r\nL 12.890625 25.390625 \r\nL 37.796875 25.390625 \r\nz\r\nM 35.203125 72.90625 \r\nL 47.609375 72.90625 \r\nL 47.609375 25.390625 \r\nL 58.015625 25.390625 \r\nL 58.015625 17.1875 \r\nL 47.609375 17.1875 \r\nL 47.609375 0 \r\nL 37.796875 0 \r\nL 37.796875 17.1875 \r\nL 4.890625 17.1875 \r\nL 4.890625 26.703125 \r\nz\r\n\" id=\"DejaVuSans-52\"/>\r\n       </defs>\r\n       <use xlink:href=\"#DejaVuSans-8722\"/>\r\n       <use x=\"83.789062\" xlink:href=\"#DejaVuSans-48\"/>\r\n       <use x=\"147.412109\" xlink:href=\"#DejaVuSans-46\"/>\r\n       <use x=\"179.199219\" xlink:href=\"#DejaVuSans-48\"/>\r\n       <use x=\"242.822266\" xlink:href=\"#DejaVuSans-52\"/>\r\n      </g>\r\n     </g>\r\n    </g>\r\n    <g id=\"xtick_2\">\r\n     <g id=\"line2d_2\">\r\n      <g>\r\n       <use style=\"stroke:#000000;stroke-width:0.8;\" x=\"165.05071\" xlink:href=\"#mb247fa44cc\" y=\"224.64\"/>\r\n      </g>\r\n     </g>\r\n     <g id=\"text_2\">\r\n      <!-- −0.02 -->\r\n      <g transform=\"translate(149.728054 239.238437)scale(0.1 -0.1)\">\r\n       <defs>\r\n        <path d=\"M 19.1875 8.296875 \r\nL 53.609375 8.296875 \r\nL 53.609375 0 \r\nL 7.328125 0 \r\nL 7.328125 8.296875 \r\nQ 12.9375 14.109375 22.625 23.890625 \r\nQ 32.328125 33.6875 34.8125 36.53125 \r\nQ 39.546875 41.84375 41.421875 45.53125 \r\nQ 43.3125 49.21875 43.3125 52.78125 \r\nQ 43.3125 58.59375 39.234375 62.25 \r\nQ 35.15625 65.921875 28.609375 65.921875 \r\nQ 23.96875 65.921875 18.8125 64.3125 \r\nQ 13.671875 62.703125 7.8125 59.421875 \r\nL 7.8125 69.390625 \r\nQ 13.765625 71.78125 18.9375 73 \r\nQ 24.125 74.21875 28.421875 74.21875 \r\nQ 39.75 74.21875 46.484375 68.546875 \r\nQ 53.21875 62.890625 53.21875 53.421875 \r\nQ 53.21875 48.921875 51.53125 44.890625 \r\nQ 49.859375 40.875 45.40625 35.40625 \r\nQ 44.1875 33.984375 37.640625 27.21875 \r\nQ 31.109375 20.453125 19.1875 8.296875 \r\nz\r\n\" id=\"DejaVuSans-50\"/>\r\n       </defs>\r\n       <use xlink:href=\"#DejaVuSans-8722\"/>\r\n       <use x=\"83.789062\" xlink:href=\"#DejaVuSans-48\"/>\r\n       <use x=\"147.412109\" xlink:href=\"#DejaVuSans-46\"/>\r\n       <use x=\"179.199219\" xlink:href=\"#DejaVuSans-48\"/>\r\n       <use x=\"242.822266\" xlink:href=\"#DejaVuSans-50\"/>\r\n      </g>\r\n     </g>\r\n    </g>\r\n    <g id=\"xtick_3\">\r\n     <g id=\"line2d_3\">\r\n      <g>\r\n       <use style=\"stroke:#000000;stroke-width:0.8;\" x=\"225.923438\" xlink:href=\"#mb247fa44cc\" y=\"224.64\"/>\r\n      </g>\r\n     </g>\r\n     <g id=\"text_3\">\r\n      <!-- 0.00 -->\r\n      <g transform=\"translate(214.790625 239.238437)scale(0.1 -0.1)\">\r\n       <use xlink:href=\"#DejaVuSans-48\"/>\r\n       <use x=\"63.623047\" xlink:href=\"#DejaVuSans-46\"/>\r\n       <use x=\"95.410156\" xlink:href=\"#DejaVuSans-48\"/>\r\n       <use x=\"159.033203\" xlink:href=\"#DejaVuSans-48\"/>\r\n      </g>\r\n     </g>\r\n    </g>\r\n    <g id=\"xtick_4\">\r\n     <g id=\"line2d_4\">\r\n      <g>\r\n       <use style=\"stroke:#000000;stroke-width:0.8;\" x=\"286.796165\" xlink:href=\"#mb247fa44cc\" y=\"224.64\"/>\r\n      </g>\r\n     </g>\r\n     <g id=\"text_4\">\r\n      <!-- 0.02 -->\r\n      <g transform=\"translate(275.663352 239.238437)scale(0.1 -0.1)\">\r\n       <use xlink:href=\"#DejaVuSans-48\"/>\r\n       <use x=\"63.623047\" xlink:href=\"#DejaVuSans-46\"/>\r\n       <use x=\"95.410156\" xlink:href=\"#DejaVuSans-48\"/>\r\n       <use x=\"159.033203\" xlink:href=\"#DejaVuSans-50\"/>\r\n      </g>\r\n     </g>\r\n    </g>\r\n    <g id=\"xtick_5\">\r\n     <g id=\"line2d_5\">\r\n      <g>\r\n       <use style=\"stroke:#000000;stroke-width:0.8;\" x=\"347.668892\" xlink:href=\"#mb247fa44cc\" y=\"224.64\"/>\r\n      </g>\r\n     </g>\r\n     <g id=\"text_5\">\r\n      <!-- 0.04 -->\r\n      <g transform=\"translate(336.53608 239.238437)scale(0.1 -0.1)\">\r\n       <use xlink:href=\"#DejaVuSans-48\"/>\r\n       <use x=\"63.623047\" xlink:href=\"#DejaVuSans-46\"/>\r\n       <use x=\"95.410156\" xlink:href=\"#DejaVuSans-48\"/>\r\n       <use x=\"159.033203\" xlink:href=\"#DejaVuSans-52\"/>\r\n      </g>\r\n     </g>\r\n    </g>\r\n    <g id=\"text_6\">\r\n     <!-- minTemp -->\r\n     <g transform=\"translate(203.170312 252.916562)scale(0.1 -0.1)\">\r\n      <defs>\r\n       <path d=\"M 52 44.1875 \r\nQ 55.375 50.25 60.0625 53.125 \r\nQ 64.75 56 71.09375 56 \r\nQ 79.640625 56 84.28125 50.015625 \r\nQ 88.921875 44.046875 88.921875 33.015625 \r\nL 88.921875 0 \r\nL 79.890625 0 \r\nL 79.890625 32.71875 \r\nQ 79.890625 40.578125 77.09375 44.375 \r\nQ 74.3125 48.1875 68.609375 48.1875 \r\nQ 61.625 48.1875 57.5625 43.546875 \r\nQ 53.515625 38.921875 53.515625 30.90625 \r\nL 53.515625 0 \r\nL 44.484375 0 \r\nL 44.484375 32.71875 \r\nQ 44.484375 40.625 41.703125 44.40625 \r\nQ 38.921875 48.1875 33.109375 48.1875 \r\nQ 26.21875 48.1875 22.15625 43.53125 \r\nQ 18.109375 38.875 18.109375 30.90625 \r\nL 18.109375 0 \r\nL 9.078125 0 \r\nL 9.078125 54.6875 \r\nL 18.109375 54.6875 \r\nL 18.109375 46.1875 \r\nQ 21.1875 51.21875 25.484375 53.609375 \r\nQ 29.78125 56 35.6875 56 \r\nQ 41.65625 56 45.828125 52.96875 \r\nQ 50 49.953125 52 44.1875 \r\nz\r\n\" id=\"DejaVuSans-109\"/>\r\n       <path d=\"M 9.421875 54.6875 \r\nL 18.40625 54.6875 \r\nL 18.40625 0 \r\nL 9.421875 0 \r\nz\r\nM 9.421875 75.984375 \r\nL 18.40625 75.984375 \r\nL 18.40625 64.59375 \r\nL 9.421875 64.59375 \r\nz\r\n\" id=\"DejaVuSans-105\"/>\r\n       <path d=\"M 54.890625 33.015625 \r\nL 54.890625 0 \r\nL 45.90625 0 \r\nL 45.90625 32.71875 \r\nQ 45.90625 40.484375 42.875 44.328125 \r\nQ 39.84375 48.1875 33.796875 48.1875 \r\nQ 26.515625 48.1875 22.3125 43.546875 \r\nQ 18.109375 38.921875 18.109375 30.90625 \r\nL 18.109375 0 \r\nL 9.078125 0 \r\nL 9.078125 54.6875 \r\nL 18.109375 54.6875 \r\nL 18.109375 46.1875 \r\nQ 21.34375 51.125 25.703125 53.5625 \r\nQ 30.078125 56 35.796875 56 \r\nQ 45.21875 56 50.046875 50.171875 \r\nQ 54.890625 44.34375 54.890625 33.015625 \r\nz\r\n\" id=\"DejaVuSans-110\"/>\r\n       <path d=\"M -0.296875 72.90625 \r\nL 61.375 72.90625 \r\nL 61.375 64.59375 \r\nL 35.5 64.59375 \r\nL 35.5 0 \r\nL 25.59375 0 \r\nL 25.59375 64.59375 \r\nL -0.296875 64.59375 \r\nz\r\n\" id=\"DejaVuSans-84\"/>\r\n       <path d=\"M 56.203125 29.59375 \r\nL 56.203125 25.203125 \r\nL 14.890625 25.203125 \r\nQ 15.484375 15.921875 20.484375 11.0625 \r\nQ 25.484375 6.203125 34.421875 6.203125 \r\nQ 39.59375 6.203125 44.453125 7.46875 \r\nQ 49.3125 8.734375 54.109375 11.28125 \r\nL 54.109375 2.78125 \r\nQ 49.265625 0.734375 44.1875 -0.34375 \r\nQ 39.109375 -1.421875 33.890625 -1.421875 \r\nQ 20.796875 -1.421875 13.15625 6.1875 \r\nQ 5.515625 13.8125 5.515625 26.8125 \r\nQ 5.515625 40.234375 12.765625 48.109375 \r\nQ 20.015625 56 32.328125 56 \r\nQ 43.359375 56 49.78125 48.890625 \r\nQ 56.203125 41.796875 56.203125 29.59375 \r\nz\r\nM 47.21875 32.234375 \r\nQ 47.125 39.59375 43.09375 43.984375 \r\nQ 39.0625 48.390625 32.421875 48.390625 \r\nQ 24.90625 48.390625 20.390625 44.140625 \r\nQ 15.875 39.890625 15.1875 32.171875 \r\nz\r\n\" id=\"DejaVuSans-101\"/>\r\n       <path d=\"M 18.109375 8.203125 \r\nL 18.109375 -20.796875 \r\nL 9.078125 -20.796875 \r\nL 9.078125 54.6875 \r\nL 18.109375 54.6875 \r\nL 18.109375 46.390625 \r\nQ 20.953125 51.265625 25.265625 53.625 \r\nQ 29.59375 56 35.59375 56 \r\nQ 45.5625 56 51.78125 48.09375 \r\nQ 58.015625 40.1875 58.015625 27.296875 \r\nQ 58.015625 14.40625 51.78125 6.484375 \r\nQ 45.5625 -1.421875 35.59375 -1.421875 \r\nQ 29.59375 -1.421875 25.265625 0.953125 \r\nQ 20.953125 3.328125 18.109375 8.203125 \r\nz\r\nM 48.6875 27.296875 \r\nQ 48.6875 37.203125 44.609375 42.84375 \r\nQ 40.53125 48.484375 33.40625 48.484375 \r\nQ 26.265625 48.484375 22.1875 42.84375 \r\nQ 18.109375 37.203125 18.109375 27.296875 \r\nQ 18.109375 17.390625 22.1875 11.75 \r\nQ 26.265625 6.109375 33.40625 6.109375 \r\nQ 40.53125 6.109375 44.609375 11.75 \r\nQ 48.6875 17.390625 48.6875 27.296875 \r\nz\r\n\" id=\"DejaVuSans-112\"/>\r\n      </defs>\r\n      <use xlink:href=\"#DejaVuSans-109\"/>\r\n      <use x=\"97.412109\" xlink:href=\"#DejaVuSans-105\"/>\r\n      <use x=\"125.195312\" xlink:href=\"#DejaVuSans-110\"/>\r\n      <use x=\"188.574219\" xlink:href=\"#DejaVuSans-84\"/>\r\n      <use x=\"232.658203\" xlink:href=\"#DejaVuSans-101\"/>\r\n      <use x=\"294.181641\" xlink:href=\"#DejaVuSans-109\"/>\r\n      <use x=\"391.59375\" xlink:href=\"#DejaVuSans-112\"/>\r\n     </g>\r\n    </g>\r\n   </g>\r\n   <g id=\"matplotlib.axis_2\">\r\n    <g id=\"ytick_1\">\r\n     <g id=\"line2d_6\">\r\n      <defs>\r\n       <path d=\"M 0 0 \r\nL -3.5 0 \r\n\" id=\"m8077dd4f7e\" style=\"stroke:#000000;stroke-width:0.8;\"/>\r\n      </defs>\r\n      <g>\r\n       <use style=\"stroke:#000000;stroke-width:0.8;\" x=\"58.523438\" xlink:href=\"#m8077dd4f7e\" y=\"194.989091\"/>\r\n      </g>\r\n     </g>\r\n     <g id=\"text_7\">\r\n      <!-- −0.04 -->\r\n      <g transform=\"translate(20.878125 198.78831)scale(0.1 -0.1)\">\r\n       <use xlink:href=\"#DejaVuSans-8722\"/>\r\n       <use x=\"83.789062\" xlink:href=\"#DejaVuSans-48\"/>\r\n       <use x=\"147.412109\" xlink:href=\"#DejaVuSans-46\"/>\r\n       <use x=\"179.199219\" xlink:href=\"#DejaVuSans-48\"/>\r\n       <use x=\"242.822266\" xlink:href=\"#DejaVuSans-52\"/>\r\n      </g>\r\n     </g>\r\n    </g>\r\n    <g id=\"ytick_2\">\r\n     <g id=\"line2d_7\">\r\n      <g>\r\n       <use style=\"stroke:#000000;stroke-width:0.8;\" x=\"58.523438\" xlink:href=\"#m8077dd4f7e\" y=\"155.454545\"/>\r\n      </g>\r\n     </g>\r\n     <g id=\"text_8\">\r\n      <!-- −0.02 -->\r\n      <g transform=\"translate(20.878125 159.253764)scale(0.1 -0.1)\">\r\n       <use xlink:href=\"#DejaVuSans-8722\"/>\r\n       <use x=\"83.789062\" xlink:href=\"#DejaVuSans-48\"/>\r\n       <use x=\"147.412109\" xlink:href=\"#DejaVuSans-46\"/>\r\n       <use x=\"179.199219\" xlink:href=\"#DejaVuSans-48\"/>\r\n       <use x=\"242.822266\" xlink:href=\"#DejaVuSans-50\"/>\r\n      </g>\r\n     </g>\r\n    </g>\r\n    <g id=\"ytick_3\">\r\n     <g id=\"line2d_8\">\r\n      <g>\r\n       <use style=\"stroke:#000000;stroke-width:0.8;\" x=\"58.523438\" xlink:href=\"#m8077dd4f7e\" y=\"115.92\"/>\r\n      </g>\r\n     </g>\r\n     <g id=\"text_9\">\r\n      <!-- 0.00 -->\r\n      <g transform=\"translate(29.257813 119.719219)scale(0.1 -0.1)\">\r\n       <use xlink:href=\"#DejaVuSans-48\"/>\r\n       <use x=\"63.623047\" xlink:href=\"#DejaVuSans-46\"/>\r\n       <use x=\"95.410156\" xlink:href=\"#DejaVuSans-48\"/>\r\n       <use x=\"159.033203\" xlink:href=\"#DejaVuSans-48\"/>\r\n      </g>\r\n     </g>\r\n    </g>\r\n    <g id=\"ytick_4\">\r\n     <g id=\"line2d_9\">\r\n      <g>\r\n       <use style=\"stroke:#000000;stroke-width:0.8;\" x=\"58.523438\" xlink:href=\"#m8077dd4f7e\" y=\"76.385455\"/>\r\n      </g>\r\n     </g>\r\n     <g id=\"text_10\">\r\n      <!-- 0.02 -->\r\n      <g transform=\"translate(29.257813 80.184673)scale(0.1 -0.1)\">\r\n       <use xlink:href=\"#DejaVuSans-48\"/>\r\n       <use x=\"63.623047\" xlink:href=\"#DejaVuSans-46\"/>\r\n       <use x=\"95.410156\" xlink:href=\"#DejaVuSans-48\"/>\r\n       <use x=\"159.033203\" xlink:href=\"#DejaVuSans-50\"/>\r\n      </g>\r\n     </g>\r\n    </g>\r\n    <g id=\"ytick_5\">\r\n     <g id=\"line2d_10\">\r\n      <g>\r\n       <use style=\"stroke:#000000;stroke-width:0.8;\" x=\"58.523438\" xlink:href=\"#m8077dd4f7e\" y=\"36.850909\"/>\r\n      </g>\r\n     </g>\r\n     <g id=\"text_11\">\r\n      <!-- 0.04 -->\r\n      <g transform=\"translate(29.257813 40.650128)scale(0.1 -0.1)\">\r\n       <use xlink:href=\"#DejaVuSans-48\"/>\r\n       <use x=\"63.623047\" xlink:href=\"#DejaVuSans-46\"/>\r\n       <use x=\"95.410156\" xlink:href=\"#DejaVuSans-48\"/>\r\n       <use x=\"159.033203\" xlink:href=\"#DejaVuSans-52\"/>\r\n      </g>\r\n     </g>\r\n    </g>\r\n    <g id=\"text_12\">\r\n     <!-- maxTemp -->\r\n     <g transform=\"translate(14.798438 140.13875)rotate(-90)scale(0.1 -0.1)\">\r\n      <defs>\r\n       <path d=\"M 34.28125 27.484375 \r\nQ 23.390625 27.484375 19.1875 25 \r\nQ 14.984375 22.515625 14.984375 16.5 \r\nQ 14.984375 11.71875 18.140625 8.90625 \r\nQ 21.296875 6.109375 26.703125 6.109375 \r\nQ 34.1875 6.109375 38.703125 11.40625 \r\nQ 43.21875 16.703125 43.21875 25.484375 \r\nL 43.21875 27.484375 \r\nz\r\nM 52.203125 31.203125 \r\nL 52.203125 0 \r\nL 43.21875 0 \r\nL 43.21875 8.296875 \r\nQ 40.140625 3.328125 35.546875 0.953125 \r\nQ 30.953125 -1.421875 24.3125 -1.421875 \r\nQ 15.921875 -1.421875 10.953125 3.296875 \r\nQ 6 8.015625 6 15.921875 \r\nQ 6 25.140625 12.171875 29.828125 \r\nQ 18.359375 34.515625 30.609375 34.515625 \r\nL 43.21875 34.515625 \r\nL 43.21875 35.40625 \r\nQ 43.21875 41.609375 39.140625 45 \r\nQ 35.0625 48.390625 27.6875 48.390625 \r\nQ 23 48.390625 18.546875 47.265625 \r\nQ 14.109375 46.140625 10.015625 43.890625 \r\nL 10.015625 52.203125 \r\nQ 14.9375 54.109375 19.578125 55.046875 \r\nQ 24.21875 56 28.609375 56 \r\nQ 40.484375 56 46.34375 49.84375 \r\nQ 52.203125 43.703125 52.203125 31.203125 \r\nz\r\n\" id=\"DejaVuSans-97\"/>\r\n       <path d=\"M 54.890625 54.6875 \r\nL 35.109375 28.078125 \r\nL 55.90625 0 \r\nL 45.3125 0 \r\nL 29.390625 21.484375 \r\nL 13.484375 0 \r\nL 2.875 0 \r\nL 24.125 28.609375 \r\nL 4.6875 54.6875 \r\nL 15.28125 54.6875 \r\nL 29.78125 35.203125 \r\nL 44.28125 54.6875 \r\nz\r\n\" id=\"DejaVuSans-120\"/>\r\n      </defs>\r\n      <use xlink:href=\"#DejaVuSans-109\"/>\r\n      <use x=\"97.412109\" xlink:href=\"#DejaVuSans-97\"/>\r\n      <use x=\"158.691406\" xlink:href=\"#DejaVuSans-120\"/>\r\n      <use x=\"217.871094\" xlink:href=\"#DejaVuSans-84\"/>\r\n      <use x=\"261.955078\" xlink:href=\"#DejaVuSans-101\"/>\r\n      <use x=\"323.478516\" xlink:href=\"#DejaVuSans-109\"/>\r\n      <use x=\"420.890625\" xlink:href=\"#DejaVuSans-112\"/>\r\n     </g>\r\n    </g>\r\n   </g>\r\n   <g id=\"patch_3\">\r\n    <path d=\"M 58.523438 224.64 \r\nL 58.523438 7.2 \r\n\" style=\"fill:none;stroke:#000000;stroke-linecap:square;stroke-linejoin:miter;stroke-width:0.8;\"/>\r\n   </g>\r\n   <g id=\"patch_4\">\r\n    <path d=\"M 393.323438 224.64 \r\nL 393.323438 7.2 \r\n\" style=\"fill:none;stroke:#000000;stroke-linecap:square;stroke-linejoin:miter;stroke-width:0.8;\"/>\r\n   </g>\r\n   <g id=\"patch_5\">\r\n    <path d=\"M 58.523438 224.64 \r\nL 393.323438 224.64 \r\n\" style=\"fill:none;stroke:#000000;stroke-linecap:square;stroke-linejoin:miter;stroke-width:0.8;\"/>\r\n   </g>\r\n   <g id=\"patch_6\">\r\n    <path d=\"M 58.523438 7.2 \r\nL 393.323438 7.2 \r\n\" style=\"fill:none;stroke:#000000;stroke-linecap:square;stroke-linejoin:miter;stroke-width:0.8;\"/>\r\n   </g>\r\n  </g>\r\n </g>\r\n <defs>\r\n  <clipPath id=\"pf3a12c649c\">\r\n   <rect height=\"217.44\" width=\"334.8\" x=\"58.523438\" y=\"7.2\"/>\r\n  </clipPath>\r\n </defs>\r\n</svg>\r\n",
      "image/png": "[encoded data removed]"
     },
     "metadata": {
      "needs_background": "light"
     }
    }
   ],
   "source": [
    "# create a scatterplot of the data \n",
    "df.plot.scatter(x='minTemp', y='maxTemp')"
   ]
  },
  {
   "cell_type": "code",
   "execution_count": null,
   "metadata": {},
   "outputs": [],
   "source": []
  }
 ],
 "metadata": {
  "kernelspec": {
   "name": "python385jvsc74a57bd0dc34c2ba8824dbfe2eea5e67b12bb70d12aca41249bbdbfb6cb212a00f277b2f",
   "display_name": "Python 3.8.5 64-bit ('base': conda)"
  },
  "language_info": {
   "codemirror_mode": {
    "name": "ipython",
    "version": 3
   },
   "file_extension": ".py",
   "mimetype": "text/x-python",
   "name": "python",
   "nbconvert_exporter": "python",
   "pygments_lexer": "ipython3",
   "version": "3.8.5"
  }
 },
 "nbformat": 4,
 "nbformat_minor": 2
}